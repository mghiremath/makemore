{
 "cells": [
  {
   "cell_type": "markdown",
   "id": "7b3189a8",
   "metadata": {},
   "source": [
    "# Agenda\n",
    "- To complexify the NN architecture, in particular, we will take more characters in a sequence as input not just 3.\n",
    "- We will not just feed them all into 1 hidden layer because it squashes too much information too quickly.\n",
    "- Instead we will make a deeper model that progressively fuses this information to make the guess of the next character in the sequence.\n",
    "\n",
    "- We will arrive at an architecture very similar to a wavenet (a language model but it also predicts audio sequences not just char/word level sequences)\n",
    "- An autoregressive model - takes a hierarchial approach with tree like structure."
   ]
  },
  {
   "cell_type": "code",
   "execution_count": 52,
   "id": "29ff24d4",
   "metadata": {},
   "outputs": [],
   "source": [
    "import torch\n",
    "import torch.nn.functional as F\n",
    "import matplotlib.pyplot as plt\n",
    "%matplotlib inline"
   ]
  },
  {
   "cell_type": "code",
   "execution_count": 53,
   "id": "7ec9e27f",
   "metadata": {},
   "outputs": [
    {
     "data": {
      "text/plain": [
       "['emma', 'olivia', 'ava', 'isabella', 'sophia', 'charlotte', 'mia', 'amelia']"
      ]
     },
     "execution_count": 53,
     "metadata": {},
     "output_type": "execute_result"
    }
   ],
   "source": [
    "# read in all the words\n",
    "words = open('names.txt', 'r').read().splitlines()\n",
    "words[:8]"
   ]
  },
  {
   "cell_type": "code",
   "execution_count": 54,
   "id": "3d3c0ebf",
   "metadata": {},
   "outputs": [
    {
     "data": {
      "text/plain": [
       "32033"
      ]
     },
     "execution_count": 54,
     "metadata": {},
     "output_type": "execute_result"
    }
   ],
   "source": [
    "len(words)"
   ]
  },
  {
   "cell_type": "code",
   "execution_count": 55,
   "id": "bca89cdd",
   "metadata": {},
   "outputs": [
    {
     "name": "stdout",
     "output_type": "stream",
     "text": [
      "27\n",
      "{1: 'a', 2: 'b', 3: 'c', 4: 'd', 5: 'e', 6: 'f', 7: 'g', 8: 'h', 9: 'i', 10: 'j', 11: 'k', 12: 'l', 13: 'm', 14: 'n', 15: 'o', 16: 'p', 17: 'q', 18: 'r', 19: 's', 20: 't', 21: 'u', 22: 'v', 23: 'w', 24: 'x', 25: 'y', 26: 'z', 0: '.'}\n"
     ]
    }
   ],
   "source": [
    "# build vocabulary of characters and mappings to/from integers\n",
    "chars = sorted(list(set(''.join(words))))\n",
    "stoi = {s:i+1 for i,s in enumerate(chars) }\n",
    "stoi['.'] = 0\n",
    "itos = {i:s for s, i in stoi.items()}\n",
    "vocab_size = len(itos)\n",
    "print(vocab_size)\n",
    "print(itos)"
   ]
  },
  {
   "cell_type": "code",
   "execution_count": 56,
   "id": "3b8f34cd",
   "metadata": {},
   "outputs": [
    {
     "name": "stdout",
     "output_type": "stream",
     "text": [
      "torch.Size([182625, 8]) torch.Size([182625])\n",
      "torch.Size([22655, 8]) torch.Size([22655])\n",
      "torch.Size([22866, 8]) torch.Size([22866])\n"
     ]
    }
   ],
   "source": [
    "# build the dataset\n",
    "block_size = 8  # how many characters to predict\n",
    "\n",
    "def build_dataset(words):\n",
    "    X, Y = [], []\n",
    "\n",
    "    for w in words:\n",
    "        context = [0] * block_size\n",
    "        for ch in w + '.':\n",
    "            ix = stoi[ch]\n",
    "            X.append(context) # append the context\n",
    "            Y.append(ix) # append the next character\n",
    "            context = context[1:] + [ix] # crop and append the new character\n",
    "\n",
    "    X = torch.tensor(X)\n",
    "    Y = torch.tensor(Y)\n",
    "    print(X.shape, Y.shape)\n",
    "    return X, Y\n",
    "\n",
    "import random\n",
    "random.seed(42)\n",
    "random.shuffle(words)  # shuffle the words to get a good mix\n",
    "n1 = int(0.8 * len(words))  # 80% for training\n",
    "n2 = int(0.9 * len(words)) # 10% for validation\n",
    "\n",
    "Xtrain, Ytrain = build_dataset(words[:n1])\n",
    "Xdev, Ydev = build_dataset(words[n1:n2])\n",
    "Xtest, Ytest = build_dataset(words[n2:])"
   ]
  },
  {
   "cell_type": "code",
   "execution_count": 57,
   "id": "5b94e1b9",
   "metadata": {},
   "outputs": [
    {
     "name": "stdout",
     "output_type": "stream",
     "text": [
      "........ --> y\n",
      ".......y --> u\n",
      "......yu --> h\n",
      ".....yuh --> e\n",
      "....yuhe --> n\n",
      "...yuhen --> g\n",
      "..yuheng --> .\n",
      "........ --> d\n",
      ".......d --> i\n",
      "......di --> o\n",
      ".....dio --> n\n",
      "....dion --> d\n",
      "...diond --> r\n",
      "..diondr --> e\n",
      ".diondre --> .\n",
      "........ --> x\n",
      ".......x --> a\n",
      "......xa --> v\n",
      ".....xav --> i\n",
      "....xavi --> e\n"
     ]
    }
   ],
   "source": [
    "for x, y in zip(Xtrain[:20], Ytrain[:20]):\n",
    "    print(''.join(itos[ix.item()] for ix in x), '-->', itos[y.item()])"
   ]
  },
  {
   "cell_type": "code",
   "execution_count": 58,
   "id": "b51c0c11",
   "metadata": {},
   "outputs": [],
   "source": [
    "# From part -3 makemore\n",
    "\n",
    "class Linear:\n",
    "    def __init__(self, fan_in, fan_out, bias=True):\n",
    "        self.weight = torch.randn((fan_in, fan_out)) / fan_in**0.5\n",
    "        self.bias = torch.zeros(fan_out) if bias else None\n",
    "\n",
    "    def __call__(self, x):\n",
    "        self.out = x @ self.weight\n",
    "        if self.bias is not None:\n",
    "            self.out += self.bias\n",
    "        return self.out\n",
    "\n",
    "    def parameters(self):\n",
    "        return [self.weight] + ([] if self.bias is None else [self.bias])\n",
    "    \n",
    "class BatchNorm1d:\n",
    "    def __init__(self, dim, eps=1e-5, momentum=0.1): # momentum is to keep track of the running mean and variance\n",
    "        self.eps = eps\n",
    "        self.momentum = momentum\n",
    "        self.training = True\n",
    "        # Parameters (trained with backprop)\n",
    "        self.gamma = torch.ones(dim)\n",
    "        self.beta = torch.zeros(dim)\n",
    "        # Buffers (trained with a running 'momentum update')\n",
    "        self.running_mean = torch.zeros(dim)\n",
    "        self.running_var = torch.ones(dim)\n",
    "\n",
    "    def __call__(self, x):\n",
    "        # calculate the forward pass\n",
    "        if self.training:\n",
    "            if x.ndim == 2:  # if the input is a 2D tensor, we need to reshape it to a 1D tensor  e.g., (batch, features)\n",
    "                dim = 0\n",
    "            elif x.ndim == 3:  # if the input is a 3D tensor, we need to reshape it to a 2D tensor e.g., (batch, seq, features)\n",
    "                dim =(0, 1)  # batch and sequence dimensions\n",
    "            xmean = x.mean(dim, keepdim=True) # batch mean\n",
    "            xvar = x.var(dim, keepdim=True) # batch variance\n",
    "            with torch.no_grad():  # update the running mean and variance using context manager to prevent gradient computation \n",
    "                self.running_mean = (1 - self.momentum) * self.running_mean + self.momentum * xmean\n",
    "                self.running_var = (1 - self.momentum) * self.running_var + self.momentum * xvar\n",
    "        else:\n",
    "            xmean = self.running_mean\n",
    "            xvar = self.running_var\n",
    "\n",
    "        xhat = (x - xmean) / torch.sqrt(xvar + self.eps) # normalize to unit variance\n",
    "        self.out = self.gamma * xhat + self.beta\n",
    "        return self.out\n",
    "    \n",
    "    def parameters(self):\n",
    "        return [self.gamma, self.beta]\n",
    "        \n",
    "class Tanh:\n",
    "    def __call__(self, x):\n",
    "        self.out = torch.tanh(x)\n",
    "        return self.out\n",
    "    def parameters(self):\n",
    "        return []\n",
    "    \n",
    "#------------------------------------------------------------------------------------------------------------------------------------------------------------------------------------------------\n",
    "\n",
    "class Embedding:\n",
    "    def __init__(self, num_embeddings, embedding_dim):\n",
    "        self.weight = torch.randn((num_embeddings, embedding_dim))\n",
    "\n",
    "    def __call__(self, IX):\n",
    "        self.out = self.weight[IX]\n",
    "        return self.out\n",
    "\n",
    "    def parameters(self):\n",
    "        return [self.weight]\n",
    "\n",
    "#------------------------------------------------------------------------------------------------------------------------------------------------------------------------------------------------\n",
    "\n",
    "class FlattenConsecutive:\n",
    "    def __init__(self, n):\n",
    "        self.n = n\n",
    "\n",
    "    def __call__(self, x):\n",
    "        B, T, C = x.shape  # B: batch size, T: sequence length, C: number of features\n",
    "        #self.out = x.view(x.shape[0], -1) # flatten the input tensor to a 2D tensor with shape (batch_size, -1). basically concatenate all the elements in the last dimension\n",
    "        x = x.view(B, T // self.n, C * self.n)  # reshape to (B, T/n, C*n)\n",
    "        if x.shape[1] == 1:\n",
    "            x = x.squeeze(1) # remove the second dimension if it is 1\n",
    "        self.out = x\n",
    "        return self.out\n",
    "\n",
    "    def parameters(self):\n",
    "        return []\n",
    "\n",
    "#------------------------------------------------------------------------------------------------------------------------------------------------------------------------------------------------\n",
    "\n",
    "class Sequential:\n",
    "    def __init__(self, layers):\n",
    "        self.layers = layers\n",
    "\n",
    "    def __call__(self, x):\n",
    "        for layer in self.layers:\n",
    "            x = layer(x)\n",
    "        self.out = x\n",
    "        return self.out\n",
    "\n",
    "    def parameters(self):\n",
    "        return [p for layer in self.layers for p in layer.parameters()] # concatenate the parameters of all the layers in a single list.            "
   ]
  },
  {
   "cell_type": "code",
   "execution_count": 59,
   "id": "426151f5",
   "metadata": {},
   "outputs": [
    {
     "data": {
      "text/plain": [
       "<torch._C.Generator at 0x7fb00094d1d0>"
      ]
     },
     "execution_count": 59,
     "metadata": {},
     "output_type": "execute_result"
    }
   ],
   "source": [
    "torch.manual_seed(42)"
   ]
  },
  {
   "cell_type": "code",
   "execution_count": 60,
   "id": "3ea22340",
   "metadata": {},
   "outputs": [
    {
     "name": "stdout",
     "output_type": "stream",
     "text": [
      "76579\n"
     ]
    }
   ],
   "source": [
    "# original network\n",
    "# n_embd = 10 # the dimensionality of the character embedding vectors\n",
    "# n_hidden = 300 # the number of neurons in the hidden layer of the MLP\n",
    "# model = Sequential([\n",
    "#   Embedding(vocab_size, n_embd),\n",
    "#   FlattenConsecutive(8), Linear(n_embd * 8, n_hidden, bias=False), BatchNorm1d(n_hidden), Tanh(),\n",
    "#   Linear(n_hidden, vocab_size),\n",
    "# ])\n",
    "\n",
    "n_embd = 24  # embedding dimension\n",
    "n_hidden = 128  # number of hidden neurons in the hidden layer\n",
    "\n",
    "model = Sequential([\n",
    "    Embedding(vocab_size, n_embd),\n",
    "    FlattenConsecutive(2), Linear(n_embd * 2, n_hidden, bias=False), BatchNorm1d(n_hidden), Tanh(),\n",
    "    FlattenConsecutive(2), Linear(n_hidden * 2, n_hidden, bias=False), BatchNorm1d(n_hidden), Tanh(),\n",
    "    FlattenConsecutive(2), Linear(n_hidden * 2, n_hidden, bias=False), BatchNorm1d(n_hidden), Tanh(),\n",
    "    Linear(n_hidden, vocab_size),  \n",
    "])\n",
    "\n",
    "# Initialize the parameters\n",
    "with torch.no_grad():\n",
    "    model.layers[-1].weight *= 0.1 #5/3 # last layer: makes less confident\n",
    "\n",
    "parameters = model.parameters()\n",
    "print(sum(p.nelement() for p in parameters)) # number of parameters\n",
    "for p in parameters:\n",
    "    p.requires_grad = True  # enable gradient computation for all parameters"
   ]
  },
  {
   "cell_type": "code",
   "execution_count": 61,
   "id": "14d7c3d9",
   "metadata": {},
   "outputs": [
    {
     "data": {
      "text/plain": [
       "torch.Size([4, 200])"
      ]
     },
     "execution_count": 61,
     "metadata": {},
     "output_type": "execute_result"
    }
   ],
   "source": [
    "#illustration of the hidden layer when linear layer is applied, matrix multiplication '@' is used '+' bias\n",
    "(torch.randn(4, 80) @ torch.randn(80, 200)  + torch.randn(200)).shape  # example of matrix multiplication in the hidden layer"
   ]
  },
  {
   "cell_type": "code",
   "execution_count": 62,
   "id": "748acc6a",
   "metadata": {},
   "outputs": [
    {
     "data": {
      "text/plain": [
       "torch.Size([4, 4, 200])"
      ]
     },
     "execution_count": 62,
     "metadata": {},
     "output_type": "execute_result"
    }
   ],
   "source": [
    "# we want only 2 characters/numbers coming into the first layer not all 80. and those 2 characters should be fused - means only 20 numbers should be coming into the first layer\n",
    "# Also we don't want (4, 80) to feed into the linear layer, we want (4, 20) to feed into the linear layer - it can be viewed as (4, 80) -> (4, 4, 20)\n",
    "\n",
    "(torch.randn(4, 4, 20) @ torch.randn(20, 200)  + torch.randn(200)).shape\n",
    "        # Hidden layer          "
   ]
  },
  {
   "cell_type": "code",
   "execution_count": 63,
   "id": "de45772f",
   "metadata": {},
   "outputs": [
    {
     "data": {
      "text/plain": [
       "[1, 3, 5, 7, 9]"
      ]
     },
     "execution_count": 63,
     "metadata": {},
     "output_type": "execute_result"
    }
   ],
   "source": [
    "list(range(10))[1::2] # list of odd numbers from 0 to 9"
   ]
  },
  {
   "cell_type": "code",
   "execution_count": 64,
   "id": "af2ef13d",
   "metadata": {},
   "outputs": [
    {
     "data": {
      "text/plain": [
       "torch.Size([4, 4, 20])"
      ]
     },
     "execution_count": 64,
     "metadata": {},
     "output_type": "execute_result"
    }
   ],
   "source": [
    "e = torch.randn(4, 8, 10)  # goal: we want this to be (4, 4, 20) where consecutive 10-d vectors are fused into 20-d vectors\n",
    "explicit_concat =torch.cat([e[:, ::2, :], e[:, 1::2, :]], dim=2).shape  \n",
    "explicit_concat"
   ]
  },
  {
   "cell_type": "code",
   "execution_count": 65,
   "id": "6c51a055",
   "metadata": {},
   "outputs": [
    {
     "data": {
      "text/plain": [
       "torch.Size([4, 4, 20])"
      ]
     },
     "execution_count": 65,
     "metadata": {},
     "output_type": "execute_result"
    }
   ],
   "source": [
    "e.view(4, 4, 20).shape"
   ]
  },
  {
   "cell_type": "code",
   "execution_count": null,
   "id": "ebdca4a0",
   "metadata": {},
   "outputs": [],
   "source": []
  },
  {
   "cell_type": "code",
   "execution_count": 66,
   "id": "06e9c935",
   "metadata": {},
   "outputs": [
    {
     "name": "stdout",
     "output_type": "stream",
     "text": [
      "      0/ 200000: 3.3095\n",
      "  10000/ 200000: 2.0891\n",
      "  20000/ 200000: 2.4235\n",
      "  30000/ 200000: 2.1769\n",
      "  40000/ 200000: 1.9419\n",
      "  50000/ 200000: 1.9380\n",
      "  60000/ 200000: 2.1125\n",
      "  70000/ 200000: 2.0225\n",
      "  80000/ 200000: 2.0893\n",
      "  90000/ 200000: 1.9620\n",
      " 100000/ 200000: 1.7643\n",
      " 110000/ 200000: 1.8953\n",
      " 120000/ 200000: 1.5643\n",
      " 130000/ 200000: 2.3322\n",
      " 140000/ 200000: 2.0476\n",
      " 150000/ 200000: 1.8052\n",
      " 160000/ 200000: 1.7695\n",
      " 170000/ 200000: 1.6950\n",
      " 180000/ 200000: 1.3297\n",
      " 190000/ 200000: 1.4935\n"
     ]
    }
   ],
   "source": [
    "# same optimization as last time\n",
    "max_steps = 200000\n",
    "batch_size = 32\n",
    "lossi = []\n",
    "\n",
    "for i in range(max_steps):\n",
    "  \n",
    "  # minibatch construct\n",
    "  ix = torch.randint(0, Xtrain.shape[0], (batch_size,))\n",
    "  Xb, Yb = Xtrain[ix], Ytrain[ix] # batch X,Y\n",
    "  \n",
    "  # forward pass\n",
    "  logits = model(Xb)\n",
    "  loss = F.cross_entropy(logits, Yb)\n",
    "  \n",
    "  # backward pass\n",
    "  for p in parameters:\n",
    "    p.grad = None\n",
    "  loss.backward()\n",
    "  \n",
    "  # update: simple SGD\n",
    "  lr = 0.1 if i < 150000 else 0.01 # step learning rate decay\n",
    "  for p in parameters:\n",
    "    p.data += -lr * p.grad\n",
    "\n",
    "  # track stats\n",
    "  if i % 10000 == 0: # print every once in a while\n",
    "    print(f'{i:7d}/{max_steps:7d}: {loss.item():.4f}')\n",
    "  lossi.append(loss.log10().item())\n"
   ]
  },
  {
   "cell_type": "code",
   "execution_count": 67,
   "id": "bfcd708d",
   "metadata": {},
   "outputs": [
    {
     "data": {
      "text/plain": [
       "torch.Size([200])"
      ]
     },
     "execution_count": 67,
     "metadata": {},
     "output_type": "execute_result"
    }
   ],
   "source": [
    "torch.tensor(lossi).view(-1, 1000).mean(1).shape"
   ]
  },
  {
   "cell_type": "code",
   "execution_count": 68,
   "id": "4eb2ac6d",
   "metadata": {},
   "outputs": [
    {
     "data": {
      "text/plain": [
       "[<matplotlib.lines.Line2D at 0x7fb000ef48b0>]"
      ]
     },
     "execution_count": 68,
     "metadata": {},
     "output_type": "execute_result"
    },
    {
     "data": {
      "image/png": "[encoded data removed]",
      "text/plain": [
       "<Figure size 640x480 with 1 Axes>"
      ]
     },
     "metadata": {},
     "output_type": "display_data"
    }
   ],
   "source": [
    "plt.plot(torch.tensor(lossi).view(-1, 1000).mean(1))"
   ]
  },
  {
   "cell_type": "code",
   "execution_count": 69,
   "id": "aa1fc434",
   "metadata": {},
   "outputs": [],
   "source": [
    "# put layers into eval mode (needed for batchnorm especially)\n",
    "for layer in model.layers:\n",
    "    layer.training = False"
   ]
  },
  {
   "cell_type": "code",
   "execution_count": 70,
   "id": "9d0ea70c",
   "metadata": {},
   "outputs": [
    {
     "name": "stdout",
     "output_type": "stream",
     "text": [
      "train loss: 1.7629\n",
      "val loss: 1.9951\n"
     ]
    }
   ],
   "source": [
    "# evaluate train and val loss\n",
    "\n",
    "@torch.no_grad() # decorator disable gradient computation for evaluation\n",
    "def split_loss(split):\n",
    "    x,y = {\n",
    "        'train': (Xtrain, Ytrain),\n",
    "        'val': (Xdev, Ydev),\n",
    "        'test': (Xtest, Ytest)\n",
    "    } [split] # get the data for the split\n",
    "    logits = model(x) # forward pass\n",
    "    loss = F.cross_entropy(logits, y) # compute loss\n",
    "    print(f'{split} loss: {loss.item():.4f}')\n",
    "\n",
    "split_loss('train')\n",
    "split_loss('val')"
   ]
  },
  {
   "cell_type": "markdown",
   "id": "0732f6c6",
   "metadata": {},
   "source": [
    "# performance log\n",
    "- original (3 character context + 200 hidden neurons, 12K params): train 2.058, val 2.105\n",
    "- context: 3 -> 8 (22K params): train 1.918, val 2.027\n",
    "- flat -> hierarchical (22K params): train 1.941, val 2.029\n",
    "- fix bug in batchnorm: train 1.912, val 2.022\n",
    "- scale up the network: n_embd 24, n_hidden 128 (76K params): train 1.769, val 1.993"
   ]
  },
  {
   "cell_type": "code",
   "execution_count": 71,
   "id": "5846c872",
   "metadata": {},
   "outputs": [
    {
     "name": "stdout",
     "output_type": "stream",
     "text": [
      "fataleigh\n",
      "chan\n",
      "corbi\n",
      "devan\n",
      "anabella\n",
      "estefany\n",
      "brixta\n",
      "filas\n",
      "eledre\n",
      "isata\n",
      "limak\n",
      "angel\n",
      "keysha\n",
      "daishna\n",
      "gerson\n",
      "keylan\n",
      "iyan\n",
      "jermany\n",
      "faed\n",
      "shylaene\n"
     ]
    }
   ],
   "source": [
    "# sample from the model\n",
    "for _ in range(20):\n",
    "    out = []\n",
    "    context = [0] * block_size  # start with a context of zeros\n",
    "    while True:\n",
    "        # forward pass:\n",
    "        logits = x=model(torch.tensor([context]))\n",
    "        probs = F.softmax(logits, dim=1)  # convert to probabilities\n",
    "        ix = torch.multinomial(probs, num_samples=1).item()  # sample from the distribution\n",
    "        if ix == 0: break  # stop if we hit the end token\n",
    "        out.append(itos[ix])  # append the character to the output\n",
    "        context = context[1:] + [ix]  # update the context\n",
    "\n",
    "    print(''.join(out))  # print the generated name"
   ]
  },
  {
   "cell_type": "code",
   "execution_count": null,
   "id": "714c5830",
   "metadata": {},
   "outputs": [],
   "source": []
  }
 ],
 "metadata": {
  "kernelspec": {
   "display_name": "base",
   "language": "python",
   "name": "python3"
  },
  "language_info": {
   "codemirror_mode": {
    "name": "ipython",
    "version": 3
   },
   "file_extension": ".py",
   "mimetype": "text/x-python",
   "name": "python",
   "nbconvert_exporter": "python",
   "pygments_lexer": "ipython3",
   "version": "3.9.18"
  }
 },
 "nbformat": 4,
 "nbformat_minor": 5
}
