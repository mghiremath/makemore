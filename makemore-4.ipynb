{
 "cells": [
  {
   "cell_type": "code",
   "execution_count": 160,
   "id": "8bfc8c7f",
   "metadata": {},
   "outputs": [],
   "source": [
    "import torch\n",
    "import torch.nn.functional as F\n",
    "import matplotlib.pyplot as plt\n",
    "%matplotlib inline"
   ]
  },
  {
   "cell_type": "code",
   "execution_count": 161,
   "id": "91df073c",
   "metadata": {},
   "outputs": [
    {
     "data": {
      "text/plain": [
       "['emma', 'olivia', 'ava', 'isabella', 'sophia', 'charlotte', 'mia', 'amelia']"
      ]
     },
     "execution_count": 161,
     "metadata": {},
     "output_type": "execute_result"
    }
   ],
   "source": [
    "# read in all the words\n",
    "words = open('names.txt', 'r').read().splitlines()\n",
    "words[:8]"
   ]
  },
  {
   "cell_type": "code",
   "execution_count": 162,
   "id": "1f1ed7d1",
   "metadata": {},
   "outputs": [
    {
     "data": {
      "text/plain": [
       "32033"
      ]
     },
     "execution_count": 162,
     "metadata": {},
     "output_type": "execute_result"
    }
   ],
   "source": [
    "len(words)"
   ]
  },
  {
   "cell_type": "code",
   "execution_count": 163,
   "id": "45828fd6",
   "metadata": {},
   "outputs": [
    {
     "name": "stdout",
     "output_type": "stream",
     "text": [
      "27\n",
      "{1: 'a', 2: 'b', 3: 'c', 4: 'd', 5: 'e', 6: 'f', 7: 'g', 8: 'h', 9: 'i', 10: 'j', 11: 'k', 12: 'l', 13: 'm', 14: 'n', 15: 'o', 16: 'p', 17: 'q', 18: 'r', 19: 's', 20: 't', 21: 'u', 22: 'v', 23: 'w', 24: 'x', 25: 'y', 26: 'z', 0: '.'}\n"
     ]
    }
   ],
   "source": [
    "# build vocabulary of characters and mappings to/from integers\n",
    "chars = sorted(list(set(''.join(words))))\n",
    "stoi = {s:i+1 for i,s in enumerate(chars) }\n",
    "stoi['.'] = 0\n",
    "itos = {i:s for s, i in stoi.items()}\n",
    "vocab_size = len(itos)\n",
    "print(vocab_size)\n",
    "print(itos)"
   ]
  },
  {
   "cell_type": "code",
   "execution_count": 164,
   "id": "bd336ba7",
   "metadata": {},
   "outputs": [
    {
     "name": "stdout",
     "output_type": "stream",
     "text": [
      "torch.Size([182625, 3]) torch.Size([182625])\n",
      "torch.Size([22655, 3]) torch.Size([22655])\n",
      "torch.Size([22866, 3]) torch.Size([22866])\n"
     ]
    }
   ],
   "source": [
    "# build the dataset\n",
    "block_size = 3  # how many characters to predict\n",
    "\n",
    "def build_dataset(words):\n",
    "    X, Y = [], []\n",
    "\n",
    "    for w in words:\n",
    "        context = [0] * block_size\n",
    "        for ch in w + '.':\n",
    "            ix = stoi[ch]\n",
    "            X.append(context) # append the context\n",
    "            Y.append(ix) # append the next character\n",
    "            context = context[1:] + [ix] # crop and append the new character\n",
    "\n",
    "    X = torch.tensor(X)\n",
    "    Y = torch.tensor(Y)\n",
    "    print(X.shape, Y.shape)\n",
    "    return X, Y\n",
    "\n",
    "import random\n",
    "random.seed(42)\n",
    "random.shuffle(words)  # shuffle the words to get a good mix\n",
    "n1 = int(0.8 * len(words))  # 80% for training\n",
    "n2 = int(0.9 * len(words)) # 10% for validation\n",
    "\n",
    "Xtrain, Ytrain = build_dataset(words[:n1])\n",
    "Xdev, Ydev = build_dataset(words[n1:n2])\n",
    "Xtest, Ytest = build_dataset(words[n2:])"
   ]
  },
  {
   "cell_type": "code",
   "execution_count": 165,
   "id": "e2115095",
   "metadata": {},
   "outputs": [],
   "source": [
    "# Utility function- we will use later when comparing manual gradients to PyTorch gradients\n",
    "def cmp(s, dt, t):\n",
    "    ex = torch.all(dt == t.grad).item()  # compare the gradients (dt - we calculated, t.grad - PyTorch calculated)\n",
    "    app = torch.allclose(dt, t.grad)  # approximate the gradients, by default, close if |a - b| < 1e-5 (relative & absolute)\n",
    "    maxdiff = (dt - t.grad).abs().max().item()  # find the maximum difference\n",
    "    print(f'{s:15s} | exact: {str(ex):5s} | approximate: {str(app):5s} | maxdiff: {maxdiff}') "
   ]
  },
  {
   "cell_type": "code",
   "execution_count": 166,
   "id": "163eeb6d",
   "metadata": {},
   "outputs": [
    {
     "name": "stdout",
     "output_type": "stream",
     "text": [
      "torch.Size([27, 10])\n",
      "Number of parameters: 4137\n"
     ]
    }
   ],
   "source": [
    "# MLP revisited\n",
    "n_embd = 10  # embedding dimension\n",
    "n_hidden = 64  # no. of neurons in the hidden layer\n",
    "\n",
    "g = torch.Generator().manual_seed(2147483647)  # for reproducibility\n",
    "C = torch.randn((vocab_size, n_embd)                    , generator=g)                                # embedding matrix\n",
    "\n",
    "print(C.shape)\n",
    "#Layer 1\n",
    "fan_in = n_embd * block_size                                                                          # number of input units\n",
    "W1 = torch.randn((fan_in, n_hidden)        , generator=g) * ((5/3) / (fan_in ** 0.5))                 # weights initialized to small values to avoid bias in the initial loss\n",
    "b1 = torch.randn(n_hidden                               , generator=g) * 0.01                        # useless cz of the batch norm. bias initialized to small values to avoid bias in the initial loss\n",
    "# Layer 2\n",
    "W2 = torch.randn((n_hidden, vocab_size)                 , generator=g) * 0.01                         # weights initialized to small values because we want to avoid bias in the initial loss\n",
    "b2 = torch.randn(vocab_size                             , generator=g) * 0                            # bias initialized to zero becasue we want to avoid bias in the initial loss\n",
    "# Batch normalization parameters\n",
    "bngain = torch.ones(1, n_hidden)*0.1 + 1.0  # batch normalization gain\n",
    "bnbias = torch.zeros(1, n_hidden)*0.1  # batch normalization bias\n",
    "\n",
    "# Note: Initializing many of these parameters in non-standard ways because\n",
    "#       sometimes initializing with e.g. all zeros could mask an incorrect \n",
    "#       implementation of the backward pass.\n",
    "\n",
    "parameters = [C, W1, b1, W2, b2, bngain, bnbias]  # list of all parameters\n",
    "print(f\"Number of parameters: {sum(p.nelement() for p in parameters)}\")\n",
    "for p in parameters:\n",
    "    p.requires_grad = True  # enable gradient computation"
   ]
  },
  {
   "cell_type": "code",
   "execution_count": 167,
   "id": "d87dbe6a",
   "metadata": {},
   "outputs": [
    {
     "name": "stdout",
     "output_type": "stream",
     "text": [
      "torch.Size([32, 3]) torch.Size([32])\n"
     ]
    }
   ],
   "source": [
    "batch_size = 32\n",
    "n = batch_size # a shorter variable also, for convenience\n",
    "# construct a minibatch\n",
    "ix = torch.randint(0, Xtrain.shape[0], (batch_size,), generator=g)\n",
    "Xb, Yb = Xtrain[ix], Ytrain[ix] # batch X,Y\n",
    "print(Xb.shape, Yb.shape)"
   ]
  },
  {
   "cell_type": "code",
   "execution_count": 168,
   "id": "5f0fbab0",
   "metadata": {},
   "outputs": [
    {
     "data": {
      "text/plain": [
       "tensor(3.2870, grad_fn=<NegBackward0>)"
      ]
     },
     "execution_count": 168,
     "metadata": {},
     "output_type": "execute_result"
    }
   ],
   "source": [
    "# forward pass, \"chunkated\" into smaller steps that are possible to backward one at a time\n",
    "emb = C[Xb]  # embed the characters into vectors shape - (n, block_size, n_embd), 32 examples, 3 characters, each have 10 embedded dimensions\n",
    "embcat = emb.view(emb.shape[0], -1)                  # concatenate the vectors, shape - (n, block_size * n_embd)\n",
    "# Linear layer 1\n",
    "hprebn = embcat @ W1 + b1  # hidden layer pre-activation(prebatch norm), shape - (n, n_hidden)\n",
    "\n",
    "# manual Batch norm layer - forward pass -  we can now inspect and compare intermediate gradients at every stage\n",
    "bnmeani = 1/n*hprebn.sum(0, keepdim=True)  \n",
    "bndiff = hprebn - bnmeani\n",
    "bndiff2 = bndiff**2\n",
    "bnvar = 1/(n-1)*(bndiff2).sum(0, keepdim=True) # note: Bessels correction: 1/n instead of 1/(n-1)\n",
    "bnvar_inv = (bnvar + 1e-5)**-0.5  # add a small number to ensure stability\n",
    "bnraw = bndiff * bnvar_inv # raw batch norm\n",
    "hpreact = bngain * bnraw + bnbias\n",
    "\n",
    "# Non-linearity\n",
    "h = torch.tanh(hpreact)  # hidden layer post-activation\n",
    "# Linear layer 2\n",
    "logits = h @ W2 + b2  # output layer - raw scores (logits) for each token in vocabulary\n",
    "\n",
    "\n",
    "# Cross-entropy loss (same as F.cross_entropy(logits, Yb))\n",
    "logit_maxes = logits.max(1, keepdim=True).values # If logits are large (e.g., [1000, 1001, 1002]), exp() can overflow & Subtracting the max doesn’t change softmax output, but avoids explosion\n",
    "norm_logits = logits - logit_maxes  # shape (n, vocab_size)\n",
    "counts = norm_logits.exp() # Exponentiate to Get Raw Softmax Numerators\n",
    "counts_sum = counts.sum(1, keepdim=True) # shape (n, 1) \n",
    "counts_sum_inv = counts_sum**-1 # if we use (1.0 / counts_sum) instead then we can't get backprop to be bit exact.\n",
    "probs = counts * counts_sum_inv # probs[i][j] = softmax(logits[i])[j]\n",
    "logprobs = probs.log()\n",
    "loss = -logprobs[range(n), Yb].mean() # range(n) gives row indices, Yb is the list of true class indices(og-prob assigned to the correct class) for each row, mean over the batch\n",
    "\n",
    "# Pytorch backward pass\n",
    "for p in parameters:\n",
    "    p.grad = None\n",
    "for t in [logprobs, probs, counts, counts_sum, counts_sum_inv, norm_logits, logit_maxes, logits, h,\n",
    "          hpreact, bnraw, bnvar_inv, bnvar, bndiff2, bndiff, hprebn, bnmeani, embcat, emb]:\n",
    "    t.retain_grad()\n",
    "loss.backward()\n",
    "loss"
   ]
  },
  {
   "cell_type": "code",
   "execution_count": 169,
   "id": "74feaf92",
   "metadata": {},
   "outputs": [
    {
     "name": "stdout",
     "output_type": "stream",
     "text": [
      "torch.Size([32, 3, 10]) torch.Size([27, 10]) torch.Size([32, 3])\n",
      "tensor([[ 1,  1,  4],\n",
      "        [18, 14,  1],\n",
      "        [11,  5,  9],\n",
      "        [ 0,  0,  1],\n",
      "        [12, 15, 14]])\n"
     ]
    }
   ],
   "source": [
    "# emb = C[Xb]  # embed the characters into vectors shape - (n, block_size, n_embd)\n",
    "print(emb.shape, C.shape, Xb.shape)\n",
    "print(Xb[:5])"
   ]
  },
  {
   "cell_type": "markdown",
   "id": "dffeed2d",
   "metadata": {},
   "source": [
    "- Lookup embeddings for input batch Xb → shape: (n, block_size, n_embd)\n",
    "\n",
    "emb = C[Xb]\n",
    "\n",
    "- Flatten the last two dims into a single vector → shape: (n, block_size * n_embd)\n",
    "\n",
    "embcat = emb.view(n, -1)\n",
    "\n",
    "- First linear layer (affine transformation) → shape: (n, n_hidden)\n",
    "\n",
    "hprebn = embcat @ W1 + b1\n",
    "\n",
    "- Compute batch mean for batchnorm → shape: (1, n_hidden)\n",
    "\n",
    "bnmeani = 1/n * hprebn.sum(0, keepdim=True)\n",
    "\n",
    "- Subtract batch mean → mean-centered values\n",
    "\n",
    "bndiff = hprebn - bnmeani\n",
    "\n",
    "- Square the centered values\n",
    "\n",
    "bndiff2 = bndiff ** 2\n",
    "\n",
    "- Compute variance (with Bessel’s correction) → shape: (1, n_hidden)\n",
    "\n",
    "bnvar = 1/(n - 1) * bndiff2.sum(0, keepdim=True)\n",
    "\n",
    "- Inverse sqrt of variance for normalization (add epsilon for stability)\n",
    "\n",
    "bnvar_inv = (bnvar + 1e-5) ** -0.5\n",
    "\n",
    "- Normalize the centered values → shape: (n, n_hidden)\n",
    "\n",
    "bnraw = bndiff * bnvar_inv\n",
    "\n",
    "- Scale and shift using learned parameters (gamma and beta)\n",
    "\n",
    "hpreact = bngain * bnraw + bnbias\n",
    "\n",
    "- Apply non-linearity (tanh activation)\n",
    "\n",
    "h = torch.tanh(hpreact)\n",
    "\n",
    "- Second linear layer → raw scores (logits) for each class\n",
    "\n",
    "logits = h @ W2 + b2\n",
    "\n",
    "- Subtract max logit value for numerical stability (softmax trick)\n",
    "\n",
    "logit_maxes = logits.max(1, keepdim=True).values\n",
    "norm_logits = logits - logit_maxes\n",
    "\n",
    "- Exponentiate the normalized logits\n",
    "\n",
    "counts = norm_logits.exp()\n",
    "\n",
    "- Sum of exponentiated values across vocab dimension\n",
    "\n",
    "counts_sum = counts.sum(1, keepdim=True)\n",
    "\n",
    "- Invert the sum to use in softmax denominator\n",
    "\n",
    "counts_sum_inv = counts_sum ** -1\n",
    "\n",
    "- Calculate softmax probabilities\n",
    "\n",
    "probs = counts * counts_sum_inv\n",
    "\n",
    "- Take log of probabilities\n",
    "\n",
    "logprobs = probs.log()\n",
    "\n",
    "- Compute negative log likelihood loss averaged over batch\n",
    "\n",
    "loss = -logprobs[range(n), Yb].mean()"
   ]
  },
  {
   "cell_type": "code",
   "execution_count": 170,
   "id": "6b7f29f3",
   "metadata": {},
   "outputs": [
    {
     "data": {
      "text/plain": [
       "<matplotlib.image.AxesImage at 0x7faa84280fa0>"
      ]
     },
     "execution_count": 170,
     "metadata": {},
     "output_type": "execute_result"
    },
    {
     "data": {
      "image/png": "[encoded data removed]",
      "text/plain": [
       "<Figure size 640x480 with 1 Axes>"
      ]
     },
     "metadata": {},
     "output_type": "display_data"
    }
   ],
   "source": [
    "plt.imshow(F.one_hot(logits.max(1).indices, num_classes=logits.shape[1]))"
   ]
  },
  {
   "cell_type": "code",
   "execution_count": 182,
   "id": "aa8308d5",
   "metadata": {},
   "outputs": [
    {
     "name": "stdout",
     "output_type": "stream",
     "text": [
      "logprobs        | exact: True  | approximate: True  | maxdiff: 0.0\n",
      "probs           | exact: True  | approximate: True  | maxdiff: 0.0\n",
      "counts_sum_inv  | exact: True  | approximate: True  | maxdiff: 0.0\n",
      "counts_sum      | exact: True  | approximate: True  | maxdiff: 0.0\n",
      "counts          | exact: True  | approximate: True  | maxdiff: 0.0\n",
      "norm_logits     | exact: True  | approximate: True  | maxdiff: 0.0\n",
      "logit_maxes     | exact: True  | approximate: True  | maxdiff: 0.0\n",
      "logits          | exact: True  | approximate: True  | maxdiff: 0.0\n",
      "h               | exact: True  | approximate: True  | maxdiff: 0.0\n",
      "W2              | exact: True  | approximate: True  | maxdiff: 0.0\n",
      "b2              | exact: True  | approximate: True  | maxdiff: 0.0\n",
      "hpreact         | exact: True  | approximate: True  | maxdiff: 0.0\n",
      "bngain          | exact: True  | approximate: True  | maxdiff: 0.0\n",
      "bnbias          | exact: True  | approximate: True  | maxdiff: 0.0\n",
      "bnraw           | exact: True  | approximate: True  | maxdiff: 0.0\n",
      "bnvar_inv       | exact: True  | approximate: True  | maxdiff: 0.0\n",
      "bnvar           | exact: True  | approximate: True  | maxdiff: 0.0\n",
      "bndiff          | exact: True  | approximate: True  | maxdiff: 0.0\n",
      "bndiff2         | exact: True  | approximate: True  | maxdiff: 0.0\n",
      "bnmeani         | exact: True  | approximate: True  | maxdiff: 0.0\n",
      "hprebn          | exact: True  | approximate: True  | maxdiff: 0.0\n",
      "embcat          | exact: True  | approximate: True  | maxdiff: 0.0\n",
      "W1              | exact: True  | approximate: True  | maxdiff: 0.0\n",
      "b1              | exact: True  | approximate: True  | maxdiff: 0.0\n",
      "emb             | exact: True  | approximate: True  | maxdiff: 0.0\n",
      "C               | exact: True  | approximate: True  | maxdiff: 0.0\n"
     ]
    }
   ],
   "source": [
    "# Exercise 1: backprop through the whole thing manually, \n",
    "# backpropagating through exactly all of the variables \n",
    "# as they are defined in the forward pass above, one by one\n",
    "\n",
    "dlogprobs = torch.zeros_like(logprobs) # create an array of zeros with the same shape as logprobs\n",
    "dlogprobs[range(n), Yb] = -1.0/n \n",
    "\n",
    "dprobs = (1.0/probs) * dlogprobs # chain rule\n",
    "\n",
    "dcounts_sum_inv = (dprobs * counts).sum(1, keepdim=True) # sum along the first dimension to get the same shape as counts_sum_inv\n",
    "\n",
    "dcounts_sum = (-1.0 * counts_sum **-2) * dcounts_sum_inv\n",
    "\n",
    "dcounts = dprobs * counts_sum_inv + dcounts_sum.expand_as(counts)           #counts_sum[i][0] = sum(counts[i][:]), so ∂counts_sum[i][0] / ∂counts[i][j] = 1\n",
    "# dcounts = torch.ones_like(counts) * dcounts_sum \n",
    "\n",
    "dnorm_logits = counts * dcounts\n",
    "\n",
    "dlogits = dnorm_logits.clone()        # dlogits will be exact copy of norm_logits - refer book & not a final derivative of logits\n",
    "dlogit_maxes = (- dnorm_logits).sum(1, keepdim=True)    # similarly dlogit_maxes will be negative of dnorm-logits because of the sign. Since logit_maxes is a column \n",
    "                                                        #and since we keep replicating the same elements of logit_maxes(n, 1) across all the columns of logits (n, vocab_size), \n",
    "                                                        # these are all separate branches using one of the variable of logit_maxes - therefore in backward pass,  we have to do sum of along 1 in order not to destroy that (n, 1) dimensions\n",
    "\n",
    "#dlogit_maxes =  torch.zeros_like(logits)        # we need to scatter the max values at the right positions from where the max values came\n",
    "#dlogit_maxes[range(n), Yb] = 1\n",
    "dlogits += F.one_hot(logits.max(1).indices, num_classes=logits.shape[1]) * dlogit_maxes\n",
    "\n",
    "dh = dlogits @ W2.T\n",
    "dW2 = h.T @ dlogits\n",
    "db2 = dlogits.sum(0,keepdim=True)         # d=a*b+c, dL/da=dL/dd*b.T ; dL/db = a.T*dL/dd  ; dL/dc = dL/dd.sum(0)  - sum over the rows\n",
    "\n",
    "dhpreact =  (1 - h**2) * dh       # we know if a = tanh(z) ; da/dz = 1-a**2\n",
    "\n",
    "dbngain = (bnraw * dhpreact).sum(0, keepdim=True) # during forward pass, we multiplied bngain(1,64) with bnraw(32,64) across the rows. \n",
    "                                                    # and in backward pass, we multiply bnraw(32,64) with bhpreact(32,64) and sum across the rows to get dbngain(1,64).\n",
    "\n",
    "dbnraw = (bngain * dhpreact)\n",
    "dbnbias = dhpreact.sum(0, keepdim=True)\n",
    "\n",
    "\n",
    "dbnvar_inv = (bndiff * dbnraw).sum(0, keepdim=True)\n",
    "dbnvar = (-0.5 * (bnvar + 1e-5)**-1.5) * dbnvar_inv\n",
    "#dbndiff2 = (1.0/(n-1))*(torch.ones_like(bndiff2)) * dbnvar\n",
    "dbndiff2 = (1.0/(n-1)) * dbnvar\n",
    "\n",
    "\n",
    "dbndiff = (dbnraw * bnvar_inv) + (2.0*bndiff * dbndiff2)\n",
    "\n",
    "# Broadcasting in the forward pass means  a variable reuse and therefore there will be a sum in the backward pass\n",
    "dhprebn = dbndiff.clone() # both bndiff and hprebn have the same shape, then local derivatives are equal to 1.0 - simply the gradient copies from dhprebn to dbndiff.\n",
    "#dbmeani = (- torch.ones_like(bndiff) * dbndiff).sum(0, keepdim=True)\n",
    "dbnmeani = (-dbndiff).sum(0, keepdim=True)\n",
    "\n",
    "dhprebn += 1.0/n * (torch.ones_like(hprebn) * dbnmeani)       # scaling and broadcasting because of the sum over rows in forward pass\n",
    "\n",
    "dembcat = dhprebn @ W1.T\n",
    "dW1 = embcat.T @ dhprebn\n",
    "db1 = dhprebn.sum(0)\n",
    "demb = dembcat.view(emb.shape)\n",
    "\n",
    "# Reset the derivative of the embedding matrix C to zero before accumulating new derivatives.\n",
    "# This is necessary because in PyTorch, derivatives accumulate by default (i.e., they don't auto-zero after each backward pass).\n",
    "dC = torch.zeros_like(C)                       \n",
    "for j in range(n):                                                       # Loop over each item in the batch (there are 'n' examples in total, e.g., 32 if batch size is 32)\n",
    "    for k in range(block_size):                                          # Loop over each token in the input block (e.g., 3 tokens per input if block_size = 3)\n",
    "        ix = Xb[j, k]                                                    # Get the index of the k-th token in the j-th example. This index refers to a row in the embedding matrix C.\n",
    "        dC[ix] += demb[j, k]                                             # Accumulate the derivative for token 'ix' into the corresponding row of dC. demb[j][k] is the derivative of the loss w.r.t. C[ix], so we add it to that row.\n",
    "                                                                         # If the same token appears multiple times in the batch, this adds up all their contributions.\n",
    "\n",
    "\n",
    "cmp('logprobs', dlogprobs, logprobs)\n",
    "cmp('probs', dprobs, probs)\n",
    "cmp('counts_sum_inv', dcounts_sum_inv, counts_sum_inv)\n",
    "cmp('counts_sum', dcounts_sum, counts_sum)\n",
    "cmp('counts', dcounts, counts)\n",
    "cmp('norm_logits', dnorm_logits, norm_logits)\n",
    "cmp('logit_maxes', dlogit_maxes, logit_maxes)\n",
    "cmp('logits', dlogits, logits)\n",
    "cmp('h', dh, h)\n",
    "cmp('W2', dW2, W2)\n",
    "cmp('b2', db2, b2)\n",
    "cmp('hpreact', dhpreact, hpreact)\n",
    "cmp('bngain', dbngain, bngain)\n",
    "cmp('bnbias', dbnbias, bnbias)\n",
    "cmp('bnraw', dbnraw, bnraw)\n",
    "cmp('bnvar_inv', dbnvar_inv, bnvar_inv)\n",
    "cmp('bnvar', dbnvar, bnvar)\n",
    "cmp('bndiff', dbndiff, bndiff)\n",
    "cmp('bndiff2', dbndiff2, bndiff2)\n",
    "cmp('bnmeani', dbnmeani, bnmeani)\n",
    "cmp('hprebn', dhprebn, hprebn)\n",
    "cmp('embcat', dembcat, embcat)\n",
    "cmp('W1', dW1, W1)\n",
    "cmp('b1', db1, b1)\n",
    "cmp('emb', demb, emb)\n",
    "cmp('C', dC, C)"
   ]
  },
  {
   "cell_type": "code",
   "execution_count": 172,
   "id": "01e6cf40",
   "metadata": {},
   "outputs": [
    {
     "name": "stdout",
     "output_type": "stream",
     "text": [
      "3.2870399951934814 diff: 2.384185791015625e-07\n"
     ]
    }
   ],
   "source": [
    "# Forward pass of cross-entropy loss\n",
    "# before:\n",
    "# logit_maxes = logits.max(1, keepdim=True).values\n",
    "# norm_logits = logits - logit_maxes # subtract max for numerical stability\n",
    "# counts = norm_logits.exp()\n",
    "# counts_sum = counts.sum(1, keepdims=True)\n",
    "# counts_sum_inv = counts_sum**-1 # if I use (1.0 / counts_sum) instead then I can't get backprop to be bit exact...\n",
    "# probs = counts * counts_sum_inv\n",
    "# logprobs = probs.log()\n",
    "# loss = -logprobs[range(n), Yb].mean()\n",
    "# after:\n",
    "loss_fast = F.cross_entropy(logits, Yb)\n",
    "print(loss_fast.item(), 'diff:', (loss_fast - loss).item())"
   ]
  },
  {
   "cell_type": "code",
   "execution_count": 173,
   "id": "d9ac70ef",
   "metadata": {},
   "outputs": [
    {
     "name": "stdout",
     "output_type": "stream",
     "text": [
      "logits          | exact: False | approximate: True  | maxdiff: 1.1059455573558807e-08\n"
     ]
    }
   ],
   "source": [
    "# Backward pass of cross-entropy loss\n",
    "\n",
    "dlogits = F.softmax(logits, dim=1) # softmax along the rows left to right\n",
    "dlogits [range(n), Yb] -= 1      # at the right positions, subtract 1. \n",
    "dlogits /=n                      # divide by n to scale down the gradient by n.\n",
    "\n",
    "cmp('logits', dlogits, logits)"
   ]
  },
  {
   "cell_type": "markdown",
   "id": "d7aa3e0e",
   "metadata": {
    "vscode": {
     "languageId": "markdown"
    }
   },
   "source": [
    "Intuitively, `dlogits` represents the gradient of the loss with respect to the logits (the raw output scores before softmax) for each example in your batch.\n",
    "\n",
    "- It tells you how much you need to change each logit to decrease the loss.\n",
    "- In classification, if the predicted probability for the correct class is too low, the corresponding entry in `dlogits` will be negative (indicating you should increase that logit).\n",
    "- For incorrect classes, the gradient will be positive or zero, suggesting you should decrease those logits.\n",
    "\n",
    "In summary:  \n",
    "**`dlogits` shows the direction and amount to nudge each logit to make the model's predictions better (i.e., to reduce the loss).**"
   ]
  },
  {
   "cell_type": "markdown",
   "id": "83619dcb",
   "metadata": {},
   "source": [
    "- The logit is the probabilities matrix in the forward pass before the softmax. In below plot black squares are the positions of the correct indices where we subtracted a 1.\n",
    "- If we take the first row of probabilities (softmax), and the derivative dlogits' first row (multiplied by n to make everything interpretable), both are exaclty same except the position of the correct index (which is ~-1)\n",
    "- If we take sum of first row of dlogits (dlogits[0].sum()), we can see below it is ~0. THis is because the fabric of probabilities of correct index and wrong indices are in the opposite directions. 1 is pushing up and all others are pulling down. This is equalized becasue the sum is zero. And eventually we get a tug on the weights and biases o that pulley mechanism. In each update, we tug in the direction we like and the parameters are giving in to the tug.\n",
    "- The force we are applying is proportional to the probabilities that came out in forward pass. For example, if our probs came out exactly correct, there would only be one 1 at correct position and all others exactly zeroes. No push and pull.\n",
    "- The amount ehihc our prediction is incorrect is exactly the amount by which we're going to get a pull or push in that dimension."
   ]
  },
  {
   "cell_type": "code",
   "execution_count": 174,
   "id": "96870d35",
   "metadata": {},
   "outputs": [
    {
     "data": {
      "text/plain": [
       "(torch.Size([32, 27]), torch.Size([32]))"
      ]
     },
     "execution_count": 174,
     "metadata": {},
     "output_type": "execute_result"
    }
   ],
   "source": [
    "logits.shape, Yb.shape"
   ]
  },
  {
   "cell_type": "code",
   "execution_count": 175,
   "id": "a347edd1",
   "metadata": {},
   "outputs": [
    {
     "data": {
      "text/plain": [
       "tensor([0.0399, 0.0414, 0.0350, 0.0391, 0.0355, 0.0402, 0.0353, 0.0369, 0.0347,\n",
       "        0.0373, 0.0376, 0.0381, 0.0372, 0.0368, 0.0379, 0.0338, 0.0325, 0.0356,\n",
       "        0.0345, 0.0385, 0.0386, 0.0360, 0.0359, 0.0403, 0.0389, 0.0364, 0.0361],\n",
       "       grad_fn=<SelectBackward0>)"
      ]
     },
     "execution_count": 175,
     "metadata": {},
     "output_type": "execute_result"
    }
   ],
   "source": [
    "F.softmax(logits, dim=1)[0]"
   ]
  },
  {
   "cell_type": "code",
   "execution_count": 176,
   "id": "3d38c931",
   "metadata": {},
   "outputs": [
    {
     "data": {
      "text/plain": [
       "tensor([ 0.0399,  0.0414,  0.0350,  0.0391,  0.0355,  0.0402,  0.0353,  0.0369,\n",
       "        -0.9653,  0.0373,  0.0376,  0.0381,  0.0372,  0.0368,  0.0379,  0.0338,\n",
       "         0.0325,  0.0356,  0.0345,  0.0385,  0.0386,  0.0360,  0.0359,  0.0403,\n",
       "         0.0389,  0.0364,  0.0361], grad_fn=<MulBackward0>)"
      ]
     },
     "execution_count": 176,
     "metadata": {},
     "output_type": "execute_result"
    }
   ],
   "source": [
    "dlogits[0] * n"
   ]
  },
  {
   "cell_type": "code",
   "execution_count": 177,
   "id": "3778e7b3",
   "metadata": {},
   "outputs": [
    {
     "data": {
      "text/plain": [
       "tensor(9.3132e-10, grad_fn=<SumBackward0>)"
      ]
     },
     "execution_count": 177,
     "metadata": {},
     "output_type": "execute_result"
    }
   ],
   "source": [
    "dlogits[0].sum()"
   ]
  },
  {
   "cell_type": "code",
   "execution_count": 178,
   "id": "719bc7e3",
   "metadata": {},
   "outputs": [
    {
     "data": {
      "text/plain": [
       "<matplotlib.image.AxesImage at 0x7faa909ae4f0>"
      ]
     },
     "execution_count": 178,
     "metadata": {},
     "output_type": "execute_result"
    },
    {
     "data": {
      "image/png": "[encoded data removed]",
      "text/plain": [
       "<Figure size 800x800 with 1 Axes>"
      ]
     },
     "metadata": {},
     "output_type": "display_data"
    }
   ],
   "source": [
    "plt.figure(figsize=(8, 8))\n",
    "plt.imshow(dlogits.detach(), cmap='gray')\n"
   ]
  },
  {
   "cell_type": "code",
   "execution_count": 181,
   "id": "fa610501",
   "metadata": {},
   "outputs": [
    {
     "name": "stdout",
     "output_type": "stream",
     "text": [
      "max diff:  tensor(4.7684e-07, grad_fn=<MaxBackward1>)\n"
     ]
    }
   ],
   "source": [
    "# Forward pass of BatchNorm layer\n",
    "# before:\n",
    "# bnmeani = 1/n*hprebn.sum(0, keepdim=True) = hprebn.mean(0, keepdim=True)\n",
    "# bndiff = hprebn - bnmeani = hprebn - hprebn.mean(0, keepdim=True)\n",
    "# bndiff2 = bndiff**2\n",
    "# bnvar = 1/(n-1)*(bndiff2).sum(0, keepdim=True) # note: Bessel's correction (dividing by n-1, not n) = hprebn.var(0, keepdim=True, unbiased=True)\n",
    "# bnvar_inv = (bnvar + 1e-5)**-0.5 = 1.0/torch.sqrt(bnvar + 1e-5)\n",
    "# bnraw = bndiff * bnvar_inv = (hprebn - hprebn.mean(0, keepdim=True)))/torch.sqrt(bnvar + 1e-5)\n",
    "# hpreact = bngain * bnraw + bnbias = bngain * (hprebn - hprebn.mean(0, keepdim=True))/torch.sqrt(bnvar + 1e-5) + bnbias\n",
    "\n",
    "# now:\n",
    "hpreact_fast = bngain * (hprebn - hprebn.mean(0, keepdim=True))/torch.sqrt(hprebn.var(0, keepdim=True, unbiased=True) + 1e-5) + bnbias\n",
    "print('max diff: ', (hpreact_fast - hpreact).abs().max())"
   ]
  },
  {
   "cell_type": "code",
   "execution_count": 186,
   "id": "33a7e0d0",
   "metadata": {},
   "outputs": [
    {
     "name": "stdout",
     "output_type": "stream",
     "text": [
      "hprebn          | exact: False | approximate: True  | maxdiff: 5.820766091346741e-11\n"
     ]
    }
   ],
   "source": [
    "# Backward pass of BatchNorm layer\n",
    "\n",
    "# before we had:\n",
    "# dbnraw = bngain * dhpreact \n",
    "# dbndiff = bnvar_inv * dbnraw = bnvar_inv * bngain * dhpreact\n",
    "# dbnvar_inv = (bndiff * dbnraw).sum(0, keepdim=True) = ((hprebn - bnmeani) * (bngain * dhpreact)).sum(0, keepdim=True) #from forward pass\n",
    "# dbnvar = (-0.5*(bnvar + 1e-5)**-1.5) * dbnvar_inv = (-0.5*(bnvar + 1e-5)**-1.5) * ((hprebn - bnmeani) * (bngain * dhpreact)).sum(0, keepdim=True)\n",
    "# dbndiff2 = (1.0/(n-1))*torch.ones_like(bndiff2) * dbnvar = (1.0/(n-1)) * dbnvar\n",
    "# dbndiff += (2*bndiff) * dbndiff2 = (2*(hprebn - bnmeani)) * dbndiff2 \n",
    "# Total dbndiff = bnvar_inv * bngain * dhpreact + (2*(hprebn - bnmeani)) * dbndiff2 \n",
    "#               = bngain * bnvar_inv * dhpreact + dbndiff2 * (2*(hprebn - bnmeani))\n",
    "#               = bngain * bnvar_inv * dhpreact + ((1.0/(n-1)) * dbnvar) * (2*(hprebn - bnmeani))\n",
    "#               = bngain * bnvar_inv * dhpreact + ((1.0/(n-1)) * (-0.5*(bnvar + 1e-5)**-1.5) * ((hprebn - bnmeani) * (bngain * dhpreact)).sum(0, keepdim=True)) * (2*(hprebn - bnmeani))\n",
    "#               = bngain * bnvar_inv * dhpreact - (1/(n-1)) * (hprebn - bnmeani) * ((bnvar + 1e-5)**-1.5) * ((hprebn - bnmeani) * (bngain * dhpreact)).sum(0, keepdim=True))\n",
    "# dhprebn = dbndiff.clone()         \n",
    "# dbnmeani = (-dbndiff).sum(0) \n",
    "# dhprebn += 1.0/n * (torch.ones_like(hprebn) * dbnmeani) \n",
    "# Total dhprebn = dbndiff + 1.0/n * dbnmeani) = dbndiff - 1.0/n * dbndiff.sum(0) \n",
    "#               = [bngain * bnvar_inv * dhpreact - (1/(n-1)) * (hprebn - bnmeani) * ((bnvar + 1e-5)**-1.5) * ((hprebn - bnmeani) * (bngain * dhpreact)).sum(0, keepdim=True))] - 1.0/n * [bngain * bnvar_inv * dhpreact - (1/(n-1)) * (hprebn - bnmeani) * ((bnvar + 1e-5)**-1.5) * ((hprebn - bnmeani) * (bngain * dhpreact)).sum(0, keepdim=True))].sum(0)\n",
    "#               Let A = bngain * bnvar_inv * dhpreact\n",
    "#\t            \tB = (1 / (n-1)) * (hprebn - bnmeani) * (bnvar + 1e-5)**-1.5 * ((hprebn - bnmeani) * (bngain * dhpreact)).sum(0)             \n",
    "#               dhprebn = A - B - (1/n) * (A - B).sum(0)\n",
    "#                       = A - B - (1/n) * A.sum(0) + (1/n) * B.sum(0)\n",
    "#                       = A - (1/n) * A.sum(0) - B + (1/n) * B.sum(0)\n",
    "#                       = bngain*bnvar_inv/n * (n*dhpreact - dhpreact.sum(0) - n/(n-1)*bnraw*(dhpreact*bnraw).sum(0))   # expanding and factoring above equation\n",
    "# calculate dhprebn given dhpreact (i.e. backprop through the batchnorm)\n",
    "# (you'll also need to use some of the variables from the forward pass up above)\n",
    "\n",
    "dhprebn = bngain*bnvar_inv/n * (n*dhpreact - dhpreact.sum(0) - n/(n-1)*bnraw*(dhpreact*bnraw).sum(0))\n",
    "cmp('hprebn', dhprebn, hprebn)"
   ]
  },
  {
   "cell_type": "code",
   "execution_count": 195,
   "id": "b150dc2c",
   "metadata": {},
   "outputs": [
    {
     "name": "stdout",
     "output_type": "stream",
     "text": [
      "torch.Size([27, 10])\n",
      "Number of parameters: 12297\n",
      "      0/ 200000: 3.3157\n",
      "  10000/ 200000: 2.1739\n",
      "  20000/ 200000: 2.2650\n",
      "  30000/ 200000: 2.3968\n",
      "  40000/ 200000: 1.9447\n",
      "  50000/ 200000: 2.4589\n",
      "  60000/ 200000: 2.5885\n",
      "  70000/ 200000: 2.0133\n",
      "  80000/ 200000: 2.3359\n",
      "  90000/ 200000: 2.1335\n",
      " 100000/ 200000: 2.0120\n",
      " 110000/ 200000: 2.3745\n",
      " 120000/ 200000: 2.0171\n",
      " 130000/ 200000: 2.5168\n",
      " 140000/ 200000: 2.4345\n",
      " 150000/ 200000: 2.2161\n",
      " 160000/ 200000: 2.0581\n",
      " 170000/ 200000: 1.8481\n",
      " 180000/ 200000: 2.2266\n",
      " 190000/ 200000: 1.7829\n"
     ]
    }
   ],
   "source": [
    "# Exercise 4: putting it all together!\n",
    "# Train the MLP neural net with your own backward pass\n",
    "\n",
    "# init\n",
    "n_embd = 10 # the dimensionality of the character embedding vectors\n",
    "n_hidden = 200 # the number of neurons in the hidden layer of the MLP\n",
    "\n",
    "g = torch.Generator().manual_seed(2147483647)  # for reproducibility\n",
    "C = torch.randn((vocab_size, n_embd)                    , generator=g)                                # embedding matrix\n",
    "\n",
    "print(C.shape)\n",
    "#Layer 1\n",
    "fan_in = n_embd * block_size                                                                          # number of input units\n",
    "W1 = torch.randn((fan_in, n_hidden)        , generator=g) * ((5/3) / (fan_in ** 0.5))                 # weights initialized to small values to avoid bias in the initial loss\n",
    "b1 = torch.randn(n_hidden                               , generator=g) * 0.01                        # useless cz of the batch norm. bias initialized to small values to avoid bias in the initial loss\n",
    "# Layer 2\n",
    "W2 = torch.randn((n_hidden, vocab_size)                 , generator=g) * 0.01                         # weights initialized to small values because we want to avoid bias in the initial loss\n",
    "b2 = torch.randn(vocab_size                             , generator=g) * 0                            # bias initialized to zero becasue we want to avoid bias in the initial loss\n",
    "# Batch normalization parameters\n",
    "bngain = torch.ones(1, n_hidden)*0.1 + 1.0  # batch normalization gain\n",
    "bnbias = torch.zeros(1, n_hidden)*0.1  # batch normalization bias\n",
    "\n",
    "# Note: Initializing many of these parameters in non-standard ways because\n",
    "#       sometimes initializing with e.g. all zeros could mask an incorrect \n",
    "#       implementation of the backward pass.\n",
    "\n",
    "parameters = [C, W1, b1, W2, b2, bngain, bnbias]  # list of all parameters\n",
    "print(f\"Number of parameters: {sum(p.nelement() for p in parameters)}\")\n",
    "for p in parameters:\n",
    "    p.requires_grad = True  # enable gradient computation for these parameters\n",
    "\n",
    "\n",
    "# same optimization as last time\n",
    "max_steps = 200000\n",
    "batch_size = 32\n",
    "n = batch_size # convenience\n",
    "lossi = []\n",
    "\n",
    "# use this context manager for efficiency once your backward pass is written (TODO)\n",
    "with torch.no_grad():\n",
    "    # kick off optimization\n",
    "  for i in range(max_steps):\n",
    "     # minibatch construct\n",
    "    ix = torch.randint(0, Xtrain.shape[0], (batch_size,), generator=g)\n",
    "    Xb, Yb = Xtrain[ix], Ytrain[ix] # batch X,Y\n",
    "\n",
    "    # forward pass\n",
    "    emb = C[Xb] # embed the characters into vectors\n",
    "    embcat = emb.view(emb.shape[0], -1) # concatenate the vectors\n",
    "    # Linear layer\n",
    "    hprebn = embcat @ W1 + b1 # hidden layer pre-activation\n",
    "    # manual Batch norm layer - forward pass -  we can now inspect and compare intermediate gradients at every stage\n",
    "    # -------------------------------------------------------------\n",
    "    bnmean = hprebn.mean(0, keepdim=True)\n",
    "    bnvar = hprebn.var(0, keepdim=True, unbiased=True)\n",
    "    bnvar_inv = (bnvar + 1e-5)**-0.5\n",
    "    bnraw = (hprebn - bnmean) * bnvar_inv\n",
    "    hpreact = bngain * bnraw + bnbias\n",
    "    # -------------------------------------------------------------\n",
    "    # Non-linearity\n",
    "    h = torch.tanh(hpreact) # hidden layer\n",
    "    logits = h @ W2 + b2 # output layer\n",
    "    loss = F.cross_entropy(logits, Yb) # loss function\n",
    "\n",
    "    # backward pass\n",
    "    for p in parameters:\n",
    "      p.grad = None\n",
    "    #loss.backward() # use this for correctness comparisons, delete it later!\n",
    "\n",
    "    # manual backprop! #swole_doge_meme\n",
    "    # -----------------\n",
    "    # Backward pass of cross-entropy loss\n",
    "\n",
    "    dlogits = F.softmax(logits, dim=1) # softmax along the rows left to right\n",
    "    dlogits [range(n), Yb] -= 1      # at the right positions, subtract 1. \n",
    "    dlogits /=n                      # divide by n to scale down the gradient by n.\n",
    "\n",
    "    # 2nd layer backprop\n",
    "    dh = dlogits @ W2.T\n",
    "    dW2 = h.T @ dlogits\n",
    "    db2 = dlogits.sum(0)         # d=a*b+c, dL/da=dL/dd*b.T ; dL/db = a.T*dL/dd  ; dL/dc = dL/dd.sum(0)  - sum over the rows\n",
    "\n",
    "    # Tanh layer\n",
    "    dhpreact =  (1 - h**2) * dh       # we know if a = tanh(z) ; da/dz = 1-a**2\n",
    "\n",
    "    # batchnorm layer backprop\n",
    "    dbngain = (bnraw * dhpreact).sum(0, keepdim=True)\n",
    "    dbnbias = dhpreact.sum(0, keepdim=True)\n",
    "    dhprebn = bngain*bnvar_inv/n * (n*dhpreact - dhpreact.sum(0) - n/(n-1)*bnraw*(dhpreact*bnraw).sum(0))\n",
    "\n",
    "    # linear layerdembcat = dhprebn @ W1.T\n",
    "    dW1 = embcat.T @ dhprebn\n",
    "    db1 = dhprebn.sum(0)\n",
    "    demb = dembcat.view(emb.shape)\n",
    "    dC = torch.zeros_like(C)                       \n",
    "    for j in range(n):                                                       # Loop over each item in the batch (there are 'n' examples in total, e.g., 32 if batch size is 32)\n",
    "        for k in range(block_size):                                          # Loop over each token in the input block (e.g., 3 tokens per input if block_size = 3)\n",
    "            ix = Xb[j, k]                                                    # Get the index of the k-th token in the j-th example. This index refers to a row in the embedding matrix C.\n",
    "            dC[ix] += demb[j, k]                                             # Accumulate the derivative for token 'ix' into the corresponding row of dC. demb[j][k] is the derivative of the loss w.r.t. C[ix], so we add it to that row.\n",
    "                                                                             # If the same token appears multiple times in the batch, this adds up all their contributions.\n",
    "    # -----------------\n",
    "    grads = [dC, dW1, db1, dW2, db2, dbngain, dbnbias]\n",
    "\n",
    "    # update\n",
    "    lr = 0.1 if i < 100000 else 0.01 # step learning rate decay\n",
    "    for p, grad in zip(parameters, grads):\n",
    "      #p.data += -lr * p.grad # old way of cheems doge (using PyTorch grad from .backward())\n",
    "      p.data += -lr * grad # new way of swole doge TODO: enable\n",
    "    \n",
    "    # track stats\n",
    "    if i % 10000 == 0: # print every once in a while\n",
    "      print(f'{i:7d}/{max_steps:7d}: {loss.item():.4f}')\n",
    "    lossi.append(loss.log10().item())\n",
    "\n",
    "    #if i >= 100: # TODO: delete early breaking when you're ready to train the full net\n",
    "      #break"
   ]
  },
  {
   "cell_type": "code",
   "execution_count": 196,
   "id": "a9135ee0",
   "metadata": {},
   "outputs": [],
   "source": [
    "# useful for checking your gradients\n",
    "# for p,g in zip(parameters, grads):\n",
    "#   cmp(str(tuple(p.shape)), g, p)"
   ]
  },
  {
   "cell_type": "code",
   "execution_count": 197,
   "id": "02efe21f",
   "metadata": {},
   "outputs": [],
   "source": [
    "# Calibrate the batch norm at the end of the training - \n",
    "# this calculates and sets the batch mean and standard deviation a single timeover the training set\n",
    "\n",
    "with torch.no_grad():\n",
    "    # pass the training set through\n",
    "    emb = C[Xtrain]\n",
    "    embcat = emb.view(emb.shape[0], -1)\n",
    "    hpreact = embcat @ W1 #+ b1 # get the preactivation for every example\n",
    "    # measure the mean/std over the entire training set\n",
    "    bnmean = hpreact.mean(0, keepdim=True)\n",
    "    bnvar = hpreact.var(0, keepdim=True, unbiased=True)"
   ]
  },
  {
   "cell_type": "code",
   "execution_count": 198,
   "id": "10d366f0",
   "metadata": {},
   "outputs": [
    {
     "name": "stdout",
     "output_type": "stream",
     "text": [
      "train loss: 2.4859\n",
      "val loss: 2.5557\n"
     ]
    }
   ],
   "source": [
    "# evaluate train and val loss\n",
    "\n",
    "@torch.no_grad() # decorator disable gradient computation for evaluation\n",
    "def split_loss(split):\n",
    "    x,y = {\n",
    "        'train': (Xtrain, Ytrain),\n",
    "        'val': (Xdev, Ydev),\n",
    "        'test': (Xtest, Ytest)\n",
    "    } [split] # get the data for the split\n",
    "    emb = C[x] # embedding lookup - (N, block_size, n_embd)\n",
    "    embcat = emb.view(emb.shape[0], -1) # concat into (N, block_size * n_embd)\n",
    "    hpreact = embcat @ W1 + b1 # hidden layer pre-activation\n",
    "    #hpreact = bngain * (hpreact - hpreact.mean(0, keepdim=True)) / (hpreact.std(0, keepdim=True) + 1e-5) + bnbias # take every single neuron and its exact firing rate will be exaclty unit gaussian\n",
    "    hpreact = bngain * (hpreact - bnmean) / (bnvar + 1e-5)**-0.5 + bnbias # take every single neuron and its exact firing rate will be exaclty unit gaussian\n",
    "    h = torch.tanh(hpreact) # (N, n_hidden)\n",
    "    logits = h @ W2 + b2 # output layer (N, vocab_size)\n",
    "    loss = F.cross_entropy(logits, y) # compute loss\n",
    "    print(f'{split} loss: {loss.item():.4f}')\n",
    "\n",
    "split_loss('train')\n",
    "split_loss('val')"
   ]
  },
  {
   "cell_type": "code",
   "execution_count": 199,
   "id": "263a8572",
   "metadata": {},
   "outputs": [
    {
     "name": "stdout",
     "output_type": "stream",
     "text": [
      "junide\n",
      "jayckarous\n",
      "fay\n",
      "adin\n",
      "kai\n",
      "rono\n",
      "sabellee\n",
      "kalinaa\n",
      "zamilena\n",
      "jadeyaine\n",
      "amel\n",
      "sera\n",
      "evy\n",
      "artellarmunthif\n",
      "demij\n",
      "pontel\n",
      "jarsani\n",
      "cora\n",
      "yarion\n",
      "kaelandreed\n"
     ]
    }
   ],
   "source": [
    "# sample from the model\n",
    "g= torch.Generator().manual_seed(2147483647)  # for reproducibility\n",
    "\n",
    "for _ in range(20):\n",
    "    out = []\n",
    "    context = [0] * block_size  # start with a context of zeros\n",
    "    while True:\n",
    "        # ------------\n",
    "        # forward pass:\n",
    "        # Embedding\n",
    "        emb = C[torch.tensor([context])]  # get the embedding for the context\n",
    "        embcat = emb.view(emb.shape[0], -1) # concat into (N, block_size * n_embd)\n",
    "        hpreact = embcat @ W1 + b1\n",
    "        hpreact = bngain * (hpreact - bnmean) * (bnvar + 1e-5)**-0.5 + bnbias\n",
    "        h = torch.tanh(hpreact) # (N, n_hidden)\n",
    "        logits = h @ W2 + b2  # output layer\n",
    "        # ------------\n",
    "        # Sample\n",
    "        probs = F.softmax(logits, dim=1)  # convert to probabilities\n",
    "        ix = torch.multinomial(probs, num_samples=1, generator=g).item()  # sample from the distribution\n",
    "        if ix == 0: break  # stop if we hit the end token\n",
    "        out.append(itos[ix])  # append the character to the output\n",
    "        context = context[1:] + [ix]  # update the context\n",
    "\n",
    "    print(''.join(out))  # print the generated name"
   ]
  }
 ],
 "metadata": {
  "kernelspec": {
   "display_name": "base",
   "language": "python",
   "name": "python3"
  },
  "language_info": {
   "codemirror_mode": {
    "name": "ipython",
    "version": 3
   },
   "file_extension": ".py",
   "mimetype": "text/x-python",
   "name": "python",
   "nbconvert_exporter": "python",
   "pygments_lexer": "ipython3",
   "version": "3.13.5"
  }
 },
 "nbformat": 4,
 "nbformat_minor": 5
}
