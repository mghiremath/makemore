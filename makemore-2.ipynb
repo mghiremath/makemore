{
 "cells": [
  {
   "cell_type": "code",
   "execution_count": 220,
   "id": "598fb549",
   "metadata": {},
   "outputs": [],
   "source": [
    "import torch\n",
    "import torch.nn as nn\n",
    "import torch.nn.functional as F\n",
    "import matplotlib.pyplot as plt\n",
    "%matplotlib inline"
   ]
  },
  {
   "cell_type": "code",
   "execution_count": 221,
   "id": "ddb3ec3b",
   "metadata": {},
   "outputs": [
    {
     "data": {
      "text/plain": [
       "['emma', 'olivia', 'ava', 'isabella', 'sophia', 'charlotte', 'mia', 'amelia']"
      ]
     },
     "execution_count": 221,
     "metadata": {},
     "output_type": "execute_result"
    }
   ],
   "source": [
    "#read in all the words\n",
    "words = open('names.txt', 'r').read().splitlines()\n",
    "words[:8]  # print first 8 words"
   ]
  },
  {
   "cell_type": "code",
   "execution_count": 222,
   "id": "3b5faea6",
   "metadata": {},
   "outputs": [
    {
     "data": {
      "text/plain": [
       "32033"
      ]
     },
     "execution_count": 222,
     "metadata": {},
     "output_type": "execute_result"
    }
   ],
   "source": [
    "len(words)  # how many words?\n"
   ]
  },
  {
   "cell_type": "code",
   "execution_count": 223,
   "id": "2dbf7974",
   "metadata": {},
   "outputs": [
    {
     "name": "stdout",
     "output_type": "stream",
     "text": [
      "{1: 'a', 2: 'b', 3: 'c', 4: 'd', 5: 'e', 6: 'f', 7: 'g', 8: 'h', 9: 'i', 10: 'j', 11: 'k', 12: 'l', 13: 'm', 14: 'n', 15: 'o', 16: 'p', 17: 'q', 18: 'r', 19: 's', 20: 't', 21: 'u', 22: 'v', 23: 'w', 24: 'x', 25: 'y', 26: 'z', 0: '.'}\n"
     ]
    }
   ],
   "source": [
    "# build vocabulary of all unique characters and mappings to/from integers\n",
    "chars = sorted(list(set(''.join(words))))\n",
    "stoi = {s:i+1 for i, s in enumerate(chars)}  # string to integer\n",
    "stoi['.'] = 0  # add a special end-of-word token\n",
    "itos = {i:s for s, i in stoi.items()}  # integer to string\n",
    "print(itos)"
   ]
  },
  {
   "cell_type": "code",
   "execution_count": null,
   "id": "b7d63788",
   "metadata": {},
   "outputs": [],
   "source": [
    "# build the dataset\n",
    "\n",
    "block_size = 3  # context length: how many characters do we take to predict the next one?\n",
    "X, Y = [], []\n",
    "for w in words:\n",
    "    #print(f'word: {w}')\n",
    "    context = [0] * block_size  # start with a context of all zeros\n",
    "    for ch in w + '.':  # add the end-of-word token\n",
    "        ix = stoi[ch]  # convert character to integer\n",
    "        X.append(context)  # append the context\n",
    "        Y.append(ix)  # append the target character\n",
    "        #print(f'  context: {context}, target: {ix} ({itos[ix]})')\n",
    "        context = context[1:] + [ix]  # slide the window: remove the first character and add the new one\n",
    "X = torch.tensor(X) #  Tensor of shape (N, block_size) containing the context\n",
    "Y = torch.tensor(Y) # Tensor of shape (N,) containing the targets"
   ]
  },
  {
   "cell_type": "code",
   "execution_count": null,
   "id": "f3d3f7bd",
   "metadata": {},
   "outputs": [],
   "source": [
    "(X.shape, Y.shape, X.dtype, Y.dtype, X[0], Y[0], itos[Y[0].item()])  # check the shapes and types of the tensors"
   ]
  },
  {
   "cell_type": "code",
   "execution_count": null,
   "id": "55530905",
   "metadata": {},
   "outputs": [],
   "source": [
    "# neural network model to take Xs and predict Ys with lookup table C\n",
    "C = torch.randn((27, 2), dtype=torch.float32, requires_grad=True)\n"
   ]
  },
  {
   "cell_type": "code",
   "execution_count": null,
   "id": "077a8ed8",
   "metadata": {},
   "outputs": [],
   "source": [
    "emb = C[X]\n",
    "print(emb.shape)"
   ]
  },
  {
   "cell_type": "code",
   "execution_count": null,
   "id": "07cb7146",
   "metadata": {},
   "outputs": [],
   "source": [
    "W1 = torch.randn((6, 100))\n",
    "b1 = torch.randn(100)"
   ]
  },
  {
   "cell_type": "markdown",
   "id": "cd54ed28",
   "metadata": {},
   "source": [
    "h = emb.view(-1,6) @ W1 + b1  # this is a linear layer that takes the embeddings and produces a hidden state to concatenate the embeddings and pass through a linear layer, we can use torch.cat, torch.unbind, or torch.view"
   ]
  },
  {
   "cell_type": "code",
   "execution_count": null,
   "id": "acd748fa",
   "metadata": {},
   "outputs": [],
   "source": [
    "h = torch.tanh(emb.view(-1,6) @ W1 + b1)"
   ]
  },
  {
   "cell_type": "code",
   "execution_count": null,
   "id": "070df154",
   "metadata": {},
   "outputs": [],
   "source": [
    "h"
   ]
  },
  {
   "cell_type": "code",
   "execution_count": null,
   "id": "da6d01e2",
   "metadata": {},
   "outputs": [],
   "source": [
    "print(h.shape)  # should be (N, 100) - 100 activation values for each example in the batch, here 32 examples\n"
   ]
  },
  {
   "cell_type": "markdown",
   "id": "ccebca6e",
   "metadata": {},
   "source": [
    "(emb.view(-1,6) @ W1).shape"
   ]
  },
  {
   "cell_type": "markdown",
   "id": "49fa174d",
   "metadata": {},
   "source": [
    "b1.shape    "
   ]
  },
  {
   "cell_type": "markdown",
   "id": "6af828d1",
   "metadata": {},
   "source": [
    "broadcasting :\n",
    "# 32 , 100 ---> 32 , 100\n",
    "#     100  --->  1 , 100\n",
    "we need to add the bias to each row of h\n",
    "h = h + b1  # add the bias to each row of h"
   ]
  },
  {
   "cell_type": "code",
   "execution_count": null,
   "id": "69d33f2c",
   "metadata": {},
   "outputs": [],
   "source": [
    "W2 = torch.randn((100, 27)) # output layer weights, for 100 inputs, 27 because there are 27 possible outut characters\n",
    "b2 = torch.randn(27) # output layer biases"
   ]
  },
  {
   "cell_type": "code",
   "execution_count": null,
   "id": "0a9515de",
   "metadata": {},
   "outputs": [],
   "source": [
    "logits = h @ W2 + b2  # logits: unnormalized log probabilities for each character"
   ]
  },
  {
   "cell_type": "code",
   "execution_count": null,
   "id": "caab0644",
   "metadata": {},
   "outputs": [],
   "source": [
    "logits.shape  # should be (N, 27) - 27 logits for each example in the batch"
   ]
  },
  {
   "cell_type": "code",
   "execution_count": null,
   "id": "2a290713",
   "metadata": {},
   "outputs": [],
   "source": [
    "counts = logits.exp()  # convert logits to counts (unnormalized probabilities)\n",
    "probs = counts / counts.sum(1, keepdim=True)  # normalize to get probabilities\n",
    "print(probs.shape)  # should be (N, 27) - 27 probabilities for each example in the batch"
   ]
  },
  {
   "cell_type": "markdown",
   "id": "de243e2e",
   "metadata": {},
   "source": [
    "We need to index into rows of probs, and from each row we need to pluck out the prob corresponding to that correct character in Y"
   ]
  },
  {
   "cell_type": "markdown",
   "id": "4b44e4d3",
   "metadata": {},
   "source": [
    "output Y is a tensor of shape (N,) containing the target characters"
   ]
  },
  {
   "cell_type": "code",
   "execution_count": null,
   "id": "e964f390",
   "metadata": {},
   "outputs": [],
   "source": [
    "probs[torch.arange(32), Y]  # get the probabilities of the correct characters (rows, columns indexed by Y)"
   ]
  },
  {
   "cell_type": "code",
   "execution_count": null,
   "id": "06e7ef6c",
   "metadata": {},
   "outputs": [],
   "source": [
    "loss  = -probs[torch.arange(32), Y].log().mean()  # negative log likelihood loss\n",
    "loss"
   ]
  },
  {
   "cell_type": "markdown",
   "id": "e830fdbb",
   "metadata": {},
   "source": [
    "#  Rewrote the the code above in a more structured way "
   ]
  },
  {
   "cell_type": "code",
   "execution_count": null,
   "id": "72f88815",
   "metadata": {},
   "outputs": [],
   "source": [
    "g = torch.Generator().manual_seed(2147483647)  # for reproducibility\n",
    "C = torch.randn((27, 2), dtype=torch.float32, requires_grad=True, generator=g)  # character embedding matrix\n",
    "W1 = torch.randn((6, 100), generator=g)  # first layer weights\n",
    "b1 = torch.randn(100, generator=g)  # first layer biases\n",
    "W2 = torch.randn((100, 27), generator=g)  # output layer weights\n",
    "b2 = torch.randn(27, generator=g)  # output layer biases\n",
    "parameters = [C, W1, b1, W2, b2]  # list of all parameters"
   ]
  },
  {
   "cell_type": "code",
   "execution_count": null,
   "id": "649b14ee",
   "metadata": {},
   "outputs": [],
   "source": [
    "sum(p.nelement() for p in parameters)  # total number of parameters in the model\n"
   ]
  },
  {
   "cell_type": "code",
   "execution_count": null,
   "id": "a710b5c2",
   "metadata": {},
   "outputs": [],
   "source": [
    "for p in parameters:\n",
    "    p.requires_grad = True  # make sure all parameters require gradients"
   ]
  },
  {
   "cell_type": "markdown",
   "id": "16be56ae",
   "metadata": {
    "vscode": {
     "languageId": "markdown"
    }
   },
   "source": [
    "`F.cross_entropy` is a PyTorch function that combines **log softmax** and **negative log-likelihood loss** into a single operation. It is commonly used for multi-class classification problems. Here's why it is preferred:\n",
    "\n",
    "1. **Numerical Stability**: \n",
    "    - `F.cross_entropy` internally applies the log softmax operation to the logits (raw scores) before computing the negative log-likelihood loss. This avoids numerical instability that can arise when computing probabilities and their logarithms separately.\n",
    "\n",
    "2. **Efficiency**:\n",
    "    - By combining the two operations (log softmax and NLL loss), `F.cross_entropy` is computationally more efficient than performing them separately.\n",
    "\n",
    "3. **Simplified Workflow**:\n",
    "    - It directly takes the raw logits (unnormalized scores) as input and computes the loss, so you don't need to manually normalize the logits into probabilities.\n",
    "\n",
    "4. **Handles Multi-Class Problems**:\n",
    "    - It is specifically designed for multi-class classification, where each example belongs to one of several classes.\n",
    "\n",
    "5. **Effects on Forward and Backward Passes**:\n",
    "    - **Forward Pass**: `F.cross_entropy` computes the loss in a single step, reducing the computational overhead compared to performing log softmax and NLL loss separately.\n",
    "    - **Backward Pass**: The combined operation ensures that gradients are computed efficiently and correctly propagated through the network, avoiding potential issues with separate gradient calculations for log softmax and NLL loss.\n",
    "\n",
    "In your case, `F.cross_entropy(logits, Y)` is used because:\n",
    "- `logits` are the raw scores output by the model.\n",
    "- `Y` contains the target class indices for each example.\n",
    "- `F.cross_entropy` computes the loss by comparing the predicted probabilities (via log softmax) with the true class labels in `Y`."
   ]
  },
  {
   "cell_type": "code",
   "execution_count": null,
   "id": "89d55f8a",
   "metadata": {},
   "outputs": [],
   "source": [
    "lre = torch.linspace(0.-3, 0, 1000)  \n",
    "lrs = 10**lre  # learning rates from 0.001 to 1.0"
   ]
  },
  {
   "cell_type": "markdown",
   "id": "9cd1d265",
   "metadata": {},
   "source": [
    "# Mini batches construct\n",
    "torch.randint(0, X.shape[0], (32,))  \n",
    " random indices for a batch of size 32\n",
    " this will give you a tensor of random indices to sample from X and Y for training.\n",
    "\n",
    "It's much better to have an approximate gradient and just make more steps than it is to evaluate the exact gradient and take fewer steps"
   ]
  },
  {
   "cell_type": "code",
   "execution_count": null,
   "id": "08308cf8",
   "metadata": {},
   "outputs": [],
   "source": [
    "lri = []\n",
    "lossi = []\n",
    "for _ in range(10000):  # training loop\n",
    "\n",
    "    # mini batch construct\n",
    "    ix = torch.randint(0, X.shape[0], (32,))  # random indices for a batch of size 32\n",
    "\n",
    "    # forward pass through the model\n",
    "    emb = C[X[ix]]  # get the embeddings for the context\n",
    "    h = torch.tanh(emb.view(-1, 6) @ W1 + b1)  # first layer: linear transformation + tanh activation\n",
    "    logits = h @ W2 + b2  # output layer: linear transformation to logits\n",
    "    loss = F.cross_entropy(logits, Y[ix])  # equivalent to the loss we computed manually - refer above notes\n",
    "    #print(f'loss: {loss.item()}')  # print the loss for this iteration\n",
    "\n",
    "    #backward pass to compute gradients\n",
    "    for p in parameters:\n",
    "        p.grad = None  # zero the gradients\n",
    "    loss.backward()  # compute gradients\n",
    "\n",
    "    # update the parameters\n",
    "    #lr = lrs[_]  # learning rate for this iteration\n",
    "    lr = 0.01  # fixed learning rate using track status first 0.1 for few iterations, then 0.01(learning rate decay)\n",
    "    for p in parameters:\n",
    "        p.data += -lr * p.grad\n",
    "\n",
    "    ##track stats - this gives the exponent to be used for the learning rate as -1 => 0.1\n",
    "    #lri.append(lre[_])\n",
    "    #lossi.append(loss.item()) \n",
    "\n",
    "print('final loss:', loss.item())"
   ]
  },
  {
   "cell_type": "code",
   "execution_count": null,
   "id": "1bd7882d",
   "metadata": {},
   "outputs": [],
   "source": [
    "emb = C[X[ix]]  # get the embeddings for the context\n",
    "h = torch.tanh(emb.view(-1, 6) @ W1 + b1)  # first layer: linear transformation + tanh activation\n",
    "logits = h @ W2 + b2  # output layer: linear transformation to logits\n",
    "loss = F.cross_entropy(logits, Y[ix])\n",
    "loss"
   ]
  },
  {
   "cell_type": "markdown",
   "id": "a2a2f46f",
   "metadata": {},
   "source": [
    "# training split, dev/validation split, test split\n",
    "80% training, 10% validation, 10% test \n",
    "\n",
    "80% of teh data used to optimize the parameters of the model using gradient descent\n",
    "\n",
    "10% of the data used to validate the model during training over all the hyperparameters to find the best model(ex. strength of regularization), to check if the model is overfitting\n",
    "\n",
    "10% of the data used to test the model after training is complete, to see how well it generalizes to unseen data\n",
    "\n"
   ]
  },
  {
   "cell_type": "code",
   "execution_count": 224,
   "id": "5d51c62b",
   "metadata": {},
   "outputs": [
    {
     "name": "stdout",
     "output_type": "stream",
     "text": [
      "X shape: torch.Size([182625, 3]), Y shape: torch.Size([182625])\n",
      "X shape: torch.Size([22655, 3]), Y shape: torch.Size([22655])\n",
      "X shape: torch.Size([22866, 3]), Y shape: torch.Size([22866])\n"
     ]
    }
   ],
   "source": [
    "# build the dataset\n",
    "\n",
    "def build_dataset(words, block_size):\n",
    "    X, Y = [], []\n",
    "    for w in words:\n",
    "        #print(f'word: {w}')\n",
    "        context = [0] * block_size\n",
    "        for ch in w + '.':\n",
    "            ix = stoi[ch]\n",
    "            X.append(context)\n",
    "            Y.append(ix)\n",
    "            #print(f'  context: {context}, target: {ix} ({itos[ix]})')\n",
    "            context = context[1:] + [ix]  # slide the window: remove the first character and add the new one\n",
    "    X = torch.tensor(X)  # Tensor of shape (N, block_size) containing the context\n",
    "    Y = torch.tensor(Y)  # Tensor of shape (N,) containing the targets\n",
    "    print(f'X shape: {X.shape}, Y shape: {Y.shape}') \n",
    "    return X, Y\n",
    "\n",
    "import random\n",
    "random.seed(42)  # for reproducibility\n",
    "random.shuffle(words)  # shuffle the words to get a random dataset\n",
    "n1 = int(0.8 * len(words))  # 80% for training\n",
    "n2 = int(0.9 * len(words))  # 10% for validation\n",
    "\n",
    "block_size = 3 # context length: how many characters do we take to predict the next one?\n",
    "Xtrain, Ytrain = build_dataset(words[:n1], block_size)  # training set\n",
    "Xdev, Ydev = build_dataset(words[n1:n2], block_size)  # validation set\n",
    "Xtest, Ytest = build_dataset(words[n2:], block_size)  # test set"
   ]
  },
  {
   "cell_type": "markdown",
   "id": "92fbf840",
   "metadata": {},
   "source": [
    "# Copied from above"
   ]
  },
  {
   "cell_type": "code",
   "execution_count": 225,
   "id": "7cba04d7",
   "metadata": {},
   "outputs": [
    {
     "data": {
      "text/plain": [
       "(torch.Size([182625, 3]),\n",
       " torch.Size([182625]),\n",
       " torch.Size([22655, 3]),\n",
       " torch.Size([22655]),\n",
       " torch.Size([22866, 3]),\n",
       " torch.Size([22866]))"
      ]
     },
     "execution_count": 225,
     "metadata": {},
     "output_type": "execute_result"
    }
   ],
   "source": [
    "Xtrain.shape, Ytrain.shape, Xdev.shape, Ydev.shape, Xtest.shape, Ytest.shape  # check the shapes of the datasets"
   ]
  },
  {
   "cell_type": "code",
   "execution_count": 276,
   "id": "a63ab349",
   "metadata": {},
   "outputs": [],
   "source": [
    "g = torch.Generator().manual_seed(2147483647)  # for reproducibility\n",
    "C = torch.randn((27, 10), dtype=torch.float32, requires_grad=True, generator=g)  # character embedding matrix\n",
    "W1 = torch.randn((30, 200), generator=g)  # first layer weights 30 = 3 * block_size(from research paper link below)\n",
    "b1 = torch.randn(200, generator=g)  # first layer biases\n",
    "W2 = torch.randn((200, 27), generator=g)  # output layer weights\n",
    "b2 = torch.randn(27, generator=g)  # output layer biases\n",
    "parameters = [C, W1, b1, W2, b2]  # list of all parameters"
   ]
  },
  {
   "cell_type": "markdown",
   "id": "7f031e3c",
   "metadata": {},
   "source": [
    "https://www.jmlr.org/papers/volume3/bengio03a/bengio03a.pdf"
   ]
  },
  {
   "cell_type": "code",
   "execution_count": 277,
   "id": "7b4fd1be",
   "metadata": {},
   "outputs": [
    {
     "data": {
      "text/plain": [
       "11897"
      ]
     },
     "execution_count": 277,
     "metadata": {},
     "output_type": "execute_result"
    }
   ],
   "source": [
    "sum(p.nelement() for p in parameters)  # total number of parameters in the model"
   ]
  },
  {
   "cell_type": "code",
   "execution_count": 278,
   "id": "d62960b8",
   "metadata": {},
   "outputs": [],
   "source": [
    "for p in parameters:\n",
    "    p.requires_grad = True  "
   ]
  },
  {
   "cell_type": "code",
   "execution_count": 279,
   "id": "347618b7",
   "metadata": {},
   "outputs": [],
   "source": [
    "lre = torch.linspace(0.-3, 0, 1000)  \n",
    "lrs = 10**lre  # learning rates from 0.001 to 1.0"
   ]
  },
  {
   "cell_type": "code",
   "execution_count": 280,
   "id": "6c9632a5",
   "metadata": {},
   "outputs": [],
   "source": [
    "lri = []\n",
    "lossi = []\n",
    "stepsi = []"
   ]
  },
  {
   "cell_type": "markdown",
   "id": "0f109f87",
   "metadata": {},
   "source": [
    "# Possible parameter changes we can do to optimize as the context\n",
    "- How long are we running (no. of optimizations)\n",
    "- what is the learning rate and how does it change over time and how does it decay\n",
    "- batch size and may achieve much better convergence speed (how many seconds or minutes it takes to train the model)\n",
    "- the look up table dimension\n",
    "- dimension of tanh\n",
    "\n"
   ]
  },
  {
   "cell_type": "code",
   "execution_count": 297,
   "id": "de85028c",
   "metadata": {},
   "outputs": [
    {
     "name": "stdout",
     "output_type": "stream",
     "text": [
      "final loss: 2.27972674369812\n"
     ]
    }
   ],
   "source": [
    "\n",
    "for _ in range(200000):  \n",
    "\n",
    "    # mini batch construct\n",
    "    ix = torch.randint(0, Xtrain.shape[0], (32,)) \n",
    "\n",
    "    # forward pass through the model\n",
    "    emb = C[Xtrain[ix]]  \n",
    "    h = torch.tanh(emb.view(-1, 30) @ W1 + b1) \n",
    "    logits = h @ W2 + b2\n",
    "    loss = F.cross_entropy(logits, Ytrain[ix]) \n",
    "\n",
    "    #backward pass to compute gradients\n",
    "    for p in parameters:\n",
    "        p.grad = None  \n",
    "    loss.backward() \n",
    "\n",
    "    # update the parameters\n",
    "    \n",
    "    lr = 0.1 if _< 100000 else 0.01  # fixed learning rate using track status first 0.1 for first 100000 iterations, then 0.01(learning rate decay) \n",
    "    for p in parameters:\n",
    "        p.data += -lr * p.grad\n",
    "\n",
    "    #track stats\n",
    "    #lri.append(lre[_])\n",
    "    stepsi.append(_)\n",
    "    lossi.append(loss.log10().item())\n",
    "\n",
    "print('final loss:', loss.item())"
   ]
  },
  {
   "cell_type": "code",
   "execution_count": 298,
   "id": "31e7d3d0",
   "metadata": {},
   "outputs": [
    {
     "data": {
      "image/png": "[encoded data removed]",
      "text/plain": [
       "<Figure size 640x480 with 1 Axes>"
      ]
     },
     "metadata": {},
     "output_type": "display_data"
    }
   ],
   "source": [
    "plt.plot(stepsi, lossi)\n",
    "plt.xlabel('Step')\n",
    "plt.ylabel('Loss')\n",
    "plt.title('Loss over Steps')\n",
    "plt.show()"
   ]
  },
  {
   "cell_type": "code",
   "execution_count": 299,
   "id": "e5ef52b3",
   "metadata": {},
   "outputs": [
    {
     "data": {
      "text/plain": [
       "tensor(2.1132, grad_fn=<NllLossBackward0>)"
      ]
     },
     "execution_count": 299,
     "metadata": {},
     "output_type": "execute_result"
    }
   ],
   "source": [
    "emb = C[Xtrain]  \n",
    "h = torch.tanh(emb.view(-1, 30) @ W1 + b1) \n",
    "logits = h @ W2 + b2  \n",
    "loss = F.cross_entropy(logits, Ytrain)\n",
    "loss"
   ]
  },
  {
   "cell_type": "code",
   "execution_count": 300,
   "id": "6820cdce",
   "metadata": {},
   "outputs": [
    {
     "data": {
      "image/png": "[encoded data removed]",
      "text/plain": [
       "<Figure size 1000x500 with 1 Axes>"
      ]
     },
     "metadata": {},
     "output_type": "display_data"
    }
   ],
   "source": [
    "plt.figure(figsize=(10, 5))\n",
    "plt.scatter(C[:, 0].data, C[:, 1].data, s=200)\n",
    "for i in range(C.shape[0]):\n",
    "    plt.text(C[i, 0].item(), C[i, 1].item(), itos[i], ha='center', va='center', color = 'white')\n",
    "plt.xlabel('x')\n",
    "plt.ylabel('y')\n",
    "plt.grid('minor')\n",
    "plt.title('Character embeddings')\n",
    "plt.show()"
   ]
  },
  {
   "cell_type": "code",
   "execution_count": 301,
   "id": "09365c3f",
   "metadata": {},
   "outputs": [
    {
     "data": {
      "text/plain": [
       "tensor(2.1587, grad_fn=<NllLossBackward0>)"
      ]
     },
     "execution_count": 301,
     "metadata": {},
     "output_type": "execute_result"
    }
   ],
   "source": [
    "emb = C[Xdev]  \n",
    "h = torch.tanh(emb.view(-1, 30) @ W1 + b1) \n",
    "logits = h @ W2 + b2  \n",
    "loss = F.cross_entropy(logits, Ydev)  # test set\n",
    "loss"
   ]
  },
  {
   "cell_type": "code",
   "execution_count": 303,
   "id": "ebe159f7",
   "metadata": {},
   "outputs": [
    {
     "name": "stdout",
     "output_type": "stream",
     "text": [
      "mora\n",
      "mayah\n",
      "see\n",
      "mad\n",
      "ryah\n",
      "rethrus\n",
      "jarlee\n",
      "adered\n",
      "eliah\n",
      "miloparekelson\n",
      "anar\n",
      "kateivynne\n",
      "miysadbergiairiel\n",
      "kin\n",
      "reth\n",
      "konnie\n",
      "caylyn\n",
      "avder\n",
      "yarue\n",
      "eli\n"
     ]
    }
   ],
   "source": [
    "# Sample from the model\n",
    "g = torch.Generator().manual_seed(2147483647 + 10)  # for reproducibility\n",
    "\n",
    "for _ in range(20):  # generate 20 samples\n",
    "    out = []\n",
    "    context = [0] * block_size  # start with a context of all ... (zeros)\n",
    "    while True:\n",
    "        emb = C[torch.tensor([context])]  # get the embeddings for the context using table C (1, block_size, dimension)\n",
    "        h = torch.tanh(emb.view(1, -1) @ W1 + b1)  # first layer: linear transformation + tanh activation\n",
    "        logits = h @ W2 + b2  # output layer: linear transformation to logits\n",
    "        probs = F.softmax(logits, dim=1)  # convert logits to probabilities\n",
    "        ix = torch.multinomial(probs, num_samples=1, generator=g).item()  # sample from the probabilities\n",
    "        if ix == 0: break  # end of word token\n",
    "        out.append(itos[ix])  # append the character to the output\n",
    "        context = context[1:] + [ix]  # slide the window: remove the first character and add the new one\n",
    "    print(''.join(out))  # print the generated word"
   ]
  }
 ],
 "metadata": {
  "kernelspec": {
   "display_name": "base",
   "language": "python",
   "name": "python3"
  },
  "language_info": {
   "codemirror_mode": {
    "name": "ipython",
    "version": 3
   },
   "file_extension": ".py",
   "mimetype": "text/x-python",
   "name": "python",
   "nbconvert_exporter": "python",
   "pygments_lexer": "ipython3",
   "version": "3.9.18"
  }
 },
 "nbformat": 4,
 "nbformat_minor": 5
}
